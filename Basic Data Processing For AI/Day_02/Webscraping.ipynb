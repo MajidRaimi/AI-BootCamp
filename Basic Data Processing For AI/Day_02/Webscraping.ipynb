{
 "cells": [
  {
   "cell_type": "markdown",
   "id": "b545fc0c",
   "metadata": {},
   "source": [
    "# Webscraping using selenium and python"
   ]
  },
  {
   "cell_type": "markdown",
   "id": "d50d888f",
   "metadata": {},
   "source": [
    "### What is selenium ?"
   ]
  },
  {
   "cell_type": "markdown",
   "id": "12c6ccbe",
   "metadata": {},
   "source": [
    "Selenium is a popular open-source tool for automating web browsers. It allows users to write scripts in Python (among other languages) to automate tasks on the web, such as filling out forms, clicking buttons, and extracting data from websites."
   ]
  },
  {
   "cell_type": "markdown",
   "id": "2973f495",
   "metadata": {},
   "source": [
    "### Why selenium ?"
   ]
  },
  {
   "cell_type": "markdown",
   "id": "6ab065d7",
   "metadata": {},
   "source": [
    "1. Easy to read & code.\n",
    "2. Open Source.\n",
    "3. Fast In Execution.\n",
    "4. Can run tests across different browsers.\n",
    "5. Automates Browser Easily.\n",
    "6. Beginners Friendly."
   ]
  },
  {
   "cell_type": "markdown",
   "id": "43ef0bf8",
   "metadata": {},
   "source": [
    "### Installation"
   ]
  },
  {
   "cell_type": "markdown",
   "id": "5a0a2c3e",
   "metadata": {},
   "source": [
    "To use Selenium in Python, you will first need to install the Selenium package using the following command:"
   ]
  },
  {
   "cell_type": "code",
   "execution_count": 2,
   "id": "6bcf0d6c",
   "metadata": {},
   "outputs": [],
   "source": [
    "#!pip install selenium"
   ]
  },
  {
   "cell_type": "markdown",
   "id": "0617baaf",
   "metadata": {},
   "source": [
    "and also you need to download chromedriver using the below link:\n",
    "https://selenium-python.readthedocs.io/installation.html#drivers"
   ]
  },
  {
   "cell_type": "markdown",
   "id": "6f06283e",
   "metadata": {},
   "source": [
    "### Basic Code"
   ]
  },
  {
   "cell_type": "code",
   "execution_count": 19,
   "id": "fa56cacf",
   "metadata": {},
   "outputs": [],
   "source": [
    "from selenium import webdriver\n",
    "\n",
    "DRIVER_PATH = '/path/to/chromedriver'\n",
    "browser = webdriver.Chrome(executable_path=DRIVER_PATH)\n",
    "\n",
    "browser.get('https://www.google.com')\n",
    "\n",
    "browser.quit()"
   ]
  },
  {
   "cell_type": "markdown",
   "id": "1674bb95",
   "metadata": {},
   "source": [
    "## Key Components of Selenium"
   ]
  },
  {
   "cell_type": "markdown",
   "id": "f2a1c106",
   "metadata": {},
   "source": [
    "1. Element Locators\n",
    "2. Web Interaction & Navigation\n",
    "3. Waits"
   ]
  },
  {
   "cell_type": "markdown",
   "id": "c3b85901",
   "metadata": {},
   "source": [
    "### Element Locators"
   ]
  },
  {
   "cell_type": "markdown",
   "id": "77183889",
   "metadata": {},
   "source": [
    "WebDriver provides two main methods for finding elements.\n",
    "\n",
    "1. find_element \n",
    "2. find_elements"
   ]
  },
  {
   "cell_type": "markdown",
   "id": "4ab957db",
   "metadata": {},
   "source": [
    "|         Type         |                                   Description                                  |          DOM Sample         |                   Example                  |\n",
    "|:--------------------:|:------------------------------------------------------------------------------:|:---------------------------:|:------------------------------------------:|\n",
    "| By.ID                | Searches for elements based on their HTML ID                                   |       <div id=\"myID\">       | find_element(By.ID, \"myID\")                |\n",
    "| By.NAME              | Searches for elements based on their name attribute                            |    <input name=\"myNAME\">    | find_element(By.NAME, \"myNAME\")            |\n",
    "| By.XPATH             | Searches for elements based on an XPath expression                             | <span>My <a>Link</a></span> | find_element(By.XPATH, \"//span/a\")         |\n",
    "| By.LINK_TEXT         | Searches for anchor elements based on a match of their text content            |        <a>My Link</a>       | find_element(By.LINK_TEXT, \"My Link\")      |\n",
    "| By.PARTIAL_LINK_TEXT | Searches for anchor elements based on a sub-string match of their text content |        <a>My Link</a>       | find_element(By.PARTIAL_LINK_TEXT, \"Link\") |\n",
    "| By.TAG_NAME          | Searches for elements based on their tag name                                  |             <h1>            | find_element(By.TAG_NAME, \"h1\")            |\n",
    "| By.CLASS_NAME        | Searches for elements based on their HTML classes                              |    <div class=\"myCLASS\">    | find_element(By.CLASSNAME, \"myCLASS\")      |\n",
    "| By.CSS_SELECTOR      | Searches for elements based on a CSS selector                                  | <span>My <a>Link</a></span> | find_element(By.CSS_SELECTOR, \"span > a\")  |"
   ]
  },
  {
   "cell_type": "markdown",
   "id": "54c4dae4",
   "metadata": {},
   "source": [
    "A full description of the methods can be found here: https://selenium-python.readthedocs.io/locating-elements.html"
   ]
  },
  {
   "cell_type": "markdown",
   "id": "26ecadb7",
   "metadata": {},
   "source": [
    "### Web Interaction & Navigation"
   ]
  },
  {
   "cell_type": "code",
   "execution_count": 20,
   "id": "51a6fdf8",
   "metadata": {},
   "outputs": [],
   "source": [
    "from webdriver_manager.chrome import ChromeDriverManager\n",
    "from selenium.webdriver.common.keys import Keys\n",
    "from selenium.webdriver.common.by import By\n",
    "from selenium import webdriver\n",
    "\n",
    "# Open a web browser and navigate to the specified URL\n",
    "browser = webdriver.Chrome(ChromeDriverManager().install())\n",
    "browser.get('https://www.google.com/')\n",
    "\n",
    "element = browser.find_element(By.XPATH, \"/html/body/div[1]/div[3]/form/div[1]/div[1]/div[1]/div/div[2]/input\")\n",
    "#element = browser.find_element(By.XPATH, \"//input[@type='text']\")\n",
    "element.send_keys(\"some text\") ## pass the text to the element\n",
    "element.send_keys(Keys.ENTER)         ##Press ENTER\n",
    "\n",
    "# Close the browser\n",
    "#browser.quit()"
   ]
  },
  {
   "cell_type": "markdown",
   "id": "e08397dc",
   "metadata": {},
   "source": [
    "### Waits"
   ]
  },
  {
   "cell_type": "markdown",
   "id": "3fbc74b0",
   "metadata": {},
   "source": [
    "1. Explicit Wait"
   ]
  },
  {
   "cell_type": "code",
   "execution_count": 24,
   "id": "a2f15b2a",
   "metadata": {},
   "outputs": [
    {
     "name": "stdout",
     "output_type": "stream",
     "text": [
      "\n"
     ]
    }
   ],
   "source": [
    "from selenium.webdriver.support.ui import WebDriverWait\n",
    "from selenium.webdriver.support import expected_conditions as EC\n",
    "from webdriver_manager.chrome import ChromeDriverManager\n",
    "from selenium.webdriver.common.keys import Keys\n",
    "from selenium.webdriver.common.by import By\n",
    "from selenium import webdriver\n",
    "\n",
    "# Open a web browser and navigate to the specified URL\n",
    "browser = webdriver.Chrome(ChromeDriverManager().install())\n",
    "browser.get('https://www.google.com/')\n",
    "\n",
    "try:\n",
    "    element = WebDriverWait(browser, 10).until(\n",
    "        EC.presence_of_element_located((By.XPATH, \"/html/body/div[1]/div[3]/form/div[1]/div[1]/div[1]/div/div[2]/input\"))\n",
    "    )\n",
    "    element.send_keys(\"some text\") ## pass the text to the element\n",
    "    element.send_keys(Keys.ENTER)         ##Press ENTER\n",
    "    browser.execute_script(\"window.scrollTo(0, document.body.scrollHeight);\") ## Will Scroll Till The Bottom of Web Page\n",
    "finally:\n",
    "    browser.quit()\n",
    "\n",
    "# Close the browser\n",
    "#browser.quit()"
   ]
  },
  {
   "cell_type": "markdown",
   "id": "2ea6c27f",
   "metadata": {},
   "source": [
    "2. Implicit Wait"
   ]
  },
  {
   "cell_type": "code",
   "execution_count": null,
   "id": "1607c079",
   "metadata": {},
   "outputs": [],
   "source": [
    "driver.implicitly_wait(10) # 10 second wait"
   ]
  },
  {
   "cell_type": "markdown",
   "id": "fd0a4c8c",
   "metadata": {},
   "source": [
    "# Important Code Snippets "
   ]
  },
  {
   "cell_type": "markdown",
   "id": "395ff3cd",
   "metadata": {},
   "source": [
    "Scrolling till the bottom of the page"
   ]
  },
  {
   "cell_type": "code",
   "execution_count": null,
   "id": "204e744e",
   "metadata": {},
   "outputs": [],
   "source": [
    "driver.execute_script(\"window.scrollTo(0, document.body.scrollHeight);\")\n",
    "## Above Code Will Scroll Till The Bottom of Web Page\n",
    "page_height = driver.execute_script(\"return document.body.scrollHeight\")\n",
    "for value in range(0,page_height):\n",
    "    driver.execute_script(f\"window.scrollTo(0, {value});\")\n",
    "## Above Code Will Smooth Scrolling Till The End"
   ]
  },
  {
   "cell_type": "markdown",
   "id": "db571e4e",
   "metadata": {},
   "source": [
    "Running Selenium code in Background"
   ]
  },
  {
   "cell_type": "code",
   "execution_count": null,
   "id": "8bb4f09e",
   "metadata": {},
   "outputs": [],
   "source": [
    "from selenium.webdriver.chrome.options import Options\n",
    "chrome_options = Options()\n",
    "chrome_options.add_argument('--headless')\n",
    "PATH = 'WEBDRIVE_PATH'\n",
    "driver = webdriver.Chrome(PATH,options=chrome_options)"
   ]
  },
  {
   "cell_type": "markdown",
   "id": "b844a5cd",
   "metadata": {},
   "source": [
    "# Mini Project"
   ]
  },
  {
   "cell_type": "code",
   "execution_count": 4,
   "id": "e3a8baff",
   "metadata": {},
   "outputs": [],
   "source": [
    "from selenium import webdriver\n",
    "from selenium.webdriver.common.keys import Keys\n",
    "from selenium.webdriver.common.by import By\n",
    "import pandas as pd"
   ]
  },
  {
   "cell_type": "code",
   "execution_count": 5,
   "id": "aa666ed4",
   "metadata": {},
   "outputs": [],
   "source": [
    "driver = webdriver.Chrome('chromedriver.exe')\n",
    "driver.get('https://www.boxofficemojo.com/chart/top_lifetime_gross/?area=XWW')"
   ]
  },
  {
   "cell_type": "code",
   "execution_count": 6,
   "id": "a0548b10",
   "metadata": {},
   "outputs": [],
   "source": [
    "movies_names = driver.find_elements(By.XPATH, '//td[@class=\"a-text-left mojo-field-type-title\"]/a[@class=\"a-link-normal\"]')"
   ]
  },
  {
   "cell_type": "code",
   "execution_count": 7,
   "id": "ead3461f",
   "metadata": {},
   "outputs": [
    {
     "name": "stdout",
     "output_type": "stream",
     "text": [
      "['Avatar', 'Avengers: Endgame', 'Titanic', 'Star Wars: Episode VII - The Force Awakens', 'Avengers: Infinity War', 'Spider-Man: No Way Home', 'Jurassic World', 'The Lion King', 'The Avengers', 'Furious 7', 'Top Gun: Maverick', 'Frozen II', 'Avengers: Age of Ultron', 'Black Panther', 'Harry Potter and the Deathly Hallows: Part 2', 'Star Wars: Episode VIII - The Last Jedi', 'Jurassic World: Fallen Kingdom', 'Beauty and the Beast', 'Frozen', 'Incredibles 2', 'The Fate of the Furious', 'Iron Man 3', 'Minions', 'Captain America: Civil War', 'Aquaman', 'The Lord of the Rings: The Return of the King', 'Spider-Man: Far from Home', 'Captain Marvel', 'Transformers: Dark of the Moon', 'Jurassic Park', 'Skyfall', 'Transformers: Age of Extinction', 'The Dark Knight Rises', 'Joker', 'Star Wars: Episode IX - The Rise of Skywalker', 'Toy Story 4', 'Toy Story 3', \"Pirates of the Caribbean: Dead Man's Chest\", 'The Lion King', 'Rogue One: A Star Wars Story', 'Aladdin', 'Pirates of the Caribbean: On Stranger Tides', 'Zootopia', 'Despicable Me 3', 'Finding Dory', 'Star Wars: Episode I - The Phantom Menace', 'Alice in Wonderland', \"Harry Potter and the Sorcerer's Stone\", 'The Hobbit: An Unexpected Journey', 'The Dark Knight', 'Jurassic World: Dominion', 'Jumanji: Welcome to the Jungle', 'Harry Potter and the Deathly Hallows: Part 1', 'Despicable Me 2', 'The Jungle Book', 'The Hobbit: The Battle of the Five Armies', \"Pirates of the Caribbean: At World's End\", 'The Hobbit: The Desolation of Smaug', 'Doctor Strange in the Multiverse of Madness', 'The Lord of the Rings: The Two Towers', 'Harry Potter and the Order of the Phoenix', 'Finding Nemo', 'Minions: The Rise of Gru', 'Harry Potter and the Half-Blood Prince', 'Shrek 2', 'Harry Potter and the Chamber of Secrets', 'Bohemian Rhapsody', 'The Battle at Lake Changjin', 'The Lord of the Rings: The Fellowship of the Ring', 'Harry Potter and the Goblet of Fire', 'Spider-Man 3', 'The Secret Life of Pets', 'Ice Age: Dawn of the Dinosaurs', 'Spectre', 'Spider-Man: Homecoming', 'Ice Age: Continental Drift', 'Batman v Superman: Dawn of Justice', 'Wolf Warrior 2', 'Star Wars: Episode III - Revenge of the Sith', 'The Hunger Games: Catching Fire', 'Guardians of the Galaxy Vol. 2', 'Inside Out', 'Venom', 'Thor: Ragnarok', 'The Twilight Saga: Breaking Dawn - Part 2', 'Inception', 'Transformers: Revenge of the Fallen', 'Spider-Man', 'Wonder Woman', 'Hi, Mom', 'Independence Day', 'Fantastic Beasts and Where to Find Them', 'Shrek the Third', 'Coco', 'Jumanji: The Next Level', 'Harry Potter and the Prisoner of Azkaban', 'Pirates of the Caribbean: Dead Men Tell No Tales', 'E.T. the Extra-Terrestrial', 'Mission: Impossible - Fallout', '2012', 'Indiana Jones and the Kingdom of the Crystal Skull', 'Spider-Man 2', 'Fast & Furious 6', 'Deadpool 2', 'Deadpool', 'Star Wars: Episode IV - A New Hope', 'No Time to Die', 'Interstellar', 'Guardians of the Galaxy', 'The Batman', 'Black Panther: Wakanda Forever', 'Thor: Love and Thunder', 'Fast & Furious Presents: Hobbs & Shaw', 'The Da Vinci Code', 'Maleficent', 'The Amazing Spider-Man', 'The Hunger Games: Mockingjay - Part 1', 'Shrek Forever After', \"Madagascar 3: Europe's Most Wanted\", 'Suicide Squad', 'X-Men: Days of Future Past', 'The Chronicles of Narnia: The Lion, the Witch and the Wardrobe', 'Monsters University', 'The Matrix Reloaded', 'Up', 'Ne Zha', 'F9: The Fast Saga', 'Gravity', 'Captain America: The Winter Soldier', 'The Twilight Saga: Breaking Dawn - Part 1', 'The Twilight Saga: New Moon', 'Dawn of the Planet of the Apes', 'Transformers', 'The Amazing Spider-Man 2', 'It', 'The Wandering Earth', 'The Twilight Saga: Eclipse', 'Mission: Impossible - Ghost Protocol', 'Mamma Mia!', 'The Hunger Games', 'Detective Chinatown 3', 'Mission: Impossible - Rogue Nation', 'Forrest Gump', 'Doctor Strange', 'The Sixth Sense', 'Man of Steel', 'Ice Age: The Meltdown', 'Kung Fu Panda 2', 'Moana', 'Justice League', 'Big Hero 6', 'Fantastic Beasts: The Crimes of Grindelwald', 'Pirates of the Caribbean: The Curse of the Black Pearl', 'Men in Black 3', 'Star Wars: Episode II - Attack of the Clones', 'The Hunger Games: Mockingjay - Part 2', 'Thor: The Dark World', 'Sing', 'Kung Fu Panda', 'The Incredibles', 'The Martian', 'Hancock', 'Water Gate Bridge', 'Fast Five', 'Iron Man 2', 'Ratatouille', 'Ant-Man and the Wasp', 'How to Train Your Dragon 2', 'Logan', 'The Lost World: Jurassic Park', 'Casino Royale', 'The Passion of the Christ', 'Life of Pi', 'Transformers: The Last Knight', 'Madagascar: Escape 2 Africa', 'War of the Worlds', 'Tangled', 'Quantum of Solace', 'Men in Black', 'The Croods', 'The Hangover Part II', 'Iron Man', 'I Am Legend', 'Ready Player One', 'Monsters, Inc.', 'Operation Red Sea', 'Night at the Museum', 'Fifty Shades of Grey', 'Kong: Skull Island', 'The Smurfs', 'Cars 2', 'King Kong', 'Puss in Boots', 'The Mermaid', 'Armageddon', 'The Day After Tomorrow', 'Ted', 'American Sniper', 'Mission: Impossible II', 'Detective Chinatown 2']\n"
     ]
    }
   ],
   "source": [
    "#movies_names = driver.find_elements(By.XPATH, '//*[@id=\"table\"]/div/table[2]/tbody/tr[5]/td[2]')\n",
    "movie_name_list = []\n",
    "for movie in range(len(movies_names)):\n",
    "    movie_name_list.append(movies_names[movie].text)\n",
    "print(movie_name_list) ##it will print all the movie names inside a list"
   ]
  },
  {
   "cell_type": "code",
   "execution_count": 8,
   "id": "4b3b9e7a",
   "metadata": {},
   "outputs": [],
   "source": [
    "release_year = driver.find_elements(By.XPATH, '//td[@class=\"a-text-left mojo-field-type-year\"]/a[@class=\"a-link-normal\"]')"
   ]
  },
  {
   "cell_type": "code",
   "execution_count": 9,
   "id": "f5ddf1d9",
   "metadata": {},
   "outputs": [
    {
     "name": "stdout",
     "output_type": "stream",
     "text": [
      "['2009', '2019', '1997', '2015', '2018', '2021', '2015', '2019', '2012', '2015', '2022', '2019', '2015', '2018', '2011', '2017', '2018', '2017', '2013', '2018', '2017', '2013', '2015', '2016', '2018', '2003', '2019', '2019', '2011', '1993', '2012', '2014', '2012', '2019', '2019', '2019', '2010', '2006', '1994', '2016', '2019', '2011', '2016', '2017', '2016', '1999', '2010', '2001', '2012', '2008', '2022', '2017', '2010', '2013', '2016', '2014', '2007', '2013', '2022', '2002', '2007', '2003', '2022', '2009', '2004', '2002', '2018', '2021', '2001', '2005', '2007', '2016', '2009', '2015', '2017', '2012', '2016', '2017', '2005', '2013', '2017', '2015', '2018', '2017', '2012', '2010', '2009', '2002', '2017', '2021', '1996', '2016', '2007', '2017', '2019', '2004', '2017', '1982', '2018', '2009', '2008', '2004', '2013', '2018', '2016', '1977', '2021', '2014', '2014', '2022', '2022', '2022', '2019', '2006', '2014', '2012', '2014', '2010', '2012', '2016', '2014', '2005', '2013', '2003', '2009', '2019', '2021', '2013', '2014', '2011', '2009', '2014', '2007', '2014', '2017', '2019', '2010', '2011', '2008', '2012', '2021', '2015', '1994', '2016', '1999', '2013', '2006', '2011', '2016', '2017', '2014', '2018', '2003', '2012', '2002', '2015', '2013', '2016', '2008', '2004', '2015', '2008', '2022', '2011', '2010', '2007', '2018', '2014', '2017', '1997', '2006', '2004', '2012', '2017', '2008', '2005', '2010', '2008', '1997', '2013', '2011', '2008', '2007', '2018', '2001', '2018', '2006', '2015', '2017', '2011', '2011', '2005', '2011', '2016', '1998', '2004', '2012', '2014', '2000', '2018']\n"
     ]
    }
   ],
   "source": [
    "release_year_list = []\n",
    "for year in range(len(release_year)):\n",
    "    release_year_list.append(release_year[year].text)\n",
    "print(release_year_list)"
   ]
  },
  {
   "cell_type": "code",
   "execution_count": 10,
   "id": "175e9cbd",
   "metadata": {},
   "outputs": [
    {
     "name": "stdout",
     "output_type": "stream",
     "text": [
      "['$2,922,917,914', '$2,797,501,328', '$2,201,647,264', '$2,069,521,700', '$2,048,359,754', '$1,916,306,995', '$1,671,537,444', '$1,663,250,487', '$1,518,815,515', '$1,515,341,399', '$1,488,519,000', '$1,450,026,933', '$1,402,809,540', '$1,382,248,826', '$1,342,359,942', '$1,332,698,830', '$1,310,466,296', '$1,305,611,599', '$1,304,550,716', '$1,243,089,244', '$1,236,005,118', '$1,214,811,252', '$1,159,444,662', '$1,153,337,496', '$1,148,528,393', '$1,146,436,214', '$1,131,927,996', '$1,128,462,972', '$1,123,794,079', '$1,109,802,321', '$1,108,569,499', '$1,104,054,072', '$1,081,169,825', '$1,074,458,282', '$1,074,149,279', '$1,073,394,593', '$1,066,970,811', '$1,066,179,747', '$1,063,611,805', '$1,058,682,142', '$1,050,693,953', '$1,045,713,802', '$1,042,533,689', '$1,034,800,131', '$1,028,570,942', '$1,027,082,707', '$1,025,468,216', '$1,023,842,938', '$1,017,030,651', '$1,006,234,167', '$1,001,136,080', '$995,339,117', '$977,070,383', '$970,766,005', '$966,554,929', '$962,201,338', '$960,996,492', '$959,027,992', '$955,775,804', '$947,939,315', '$942,235,757', '$940,352,645', '$939,433,210', '$934,492,799', '$928,760,770', '$925,054,421', '$910,809,311', '$902,548,476', '$898,182,036', '$896,815,106', '$894,983,373', '$894,328,469', '$886,686,817', '$880,705,312', '$880,166,924', '$877,244,782', '$873,637,528', '$870,325,439', '$868,390,560', '$865,011,746', '$863,756,051', '$858,848,019', '$856,085,151', '$853,983,879', '$848,853,382', '$836,848,102', '$836,303,693', '$825,025,036', '$822,854,286', '$822,009,764', '$817,400,891', '$814,044,001', '$813,367,380', '$807,817,888', '$801,693,929', '$797,660,766', '$794,881,442', '$792,910,554', '$791,657,398', '$791,217,826', '$790,653,942', '$788,976,453', '$788,680,968', '$785,896,609', '$782,836,791', '$775,398,007', '$774,153,007', '$773,837,686', '$773,350,147', '$770,836,163', '$767,810,778', '$760,928,081', '$760,732,926', '$760,006,945', '$758,411,779', '$757,930,663', '$755,356,711', '$752,600,867', '$746,921,274', '$746,846,894', '$746,045,700', '$745,013,115', '$743,559,645', '$741,847,937', '$735,099,102', '$726,264,074', '$726,229,501', '$723,192,705', '$714,421,503', '$712,205,856', '$711,025,481', '$710,644,566', '$709,709,780', '$708,982,323', '$701,842,551', '$699,992,512', '$698,509,825', '$694,713,380', '$694,476,782', '$694,394,724', '$686,257,563', '$682,716,636', '$678,226,465', '$677,796,076', '$672,806,432', '$668,045,518', '$667,094,506', '$665,692,281', '$665,069,139', '$657,926,987', '$657,869,686', '$654,855,901', '$654,264,015', '$654,213,485', '$653,779,970', '$653,428,261', '$644,783,140', '$634,338,384', '$632,083,197', '$631,607,053', '$630,620,818', '$629,443,428', '$626,571,697', '$626,137,675', '$623,933,331', '$623,726,085', '$622,674,139', '$621,537,519', '$619,179,950', '$618,638,999', '$616,504,662', '$612,054,506', '$609,016,565', '$605,425,157', '$603,900,354', '$603,873,119', '$592,462,816', '$589,580,482', '$589,390,539', '$587,235,983', '$586,764,305', '$585,796,247', '$585,410,052', '$582,918,849', '$579,707,738', '$579,330,426', '$574,481,229', '$569,651,467', '$566,652,812', '$563,749,323', '$559,852,396', '$556,906,378', '$554,987,477', '$553,810,228', '$553,709,788', '$552,639,571', '$549,368,315', '$547,459,020', '$546,388,108', '$544,185,156']\n"
     ]
    }
   ],
   "source": [
    "lifetime_gross = driver.find_elements_by_xpath('//td[@class=\"a-text-right mojo-field-type-money\"]')\n",
    "lifetime_gross_list = []\n",
    "for i in range(len(lifetime_gross)):\n",
    "    lifetime_gross_list.append(lifetime_gross[i].text)\n",
    "print(lifetime_gross_list)"
   ]
  },
  {
   "cell_type": "code",
   "execution_count": 11,
   "id": "3f1f8387",
   "metadata": {},
   "outputs": [],
   "source": [
    "data =list( zip(movie_name_list, release_year_list, lifetime_gross_list))\n",
    "df = pd.DataFrame(data,columns=['Movie Name', 'Release Date','Lifetime Earnings'])\n",
    "df.to_csv('top_200_movies_with_lifetime_gross.csv',index=False)"
   ]
  },
  {
   "cell_type": "code",
   "execution_count": null,
   "id": "7bd4fbdf",
   "metadata": {},
   "outputs": [],
   "source": []
  }
 ],
 "metadata": {
  "kernelspec": {
   "display_name": "Python 3 (ipykernel)",
   "language": "python",
   "name": "python3"
  },
  "language_info": {
   "codemirror_mode": {
    "name": "ipython",
    "version": 3
   },
   "file_extension": ".py",
   "mimetype": "text/x-python",
   "name": "python",
   "nbconvert_exporter": "python",
   "pygments_lexer": "ipython3",
   "version": "3.9.7"
  },
  "varInspector": {
   "cols": {
    "lenName": 16,
    "lenType": 16,
    "lenVar": 40
   },
   "kernels_config": {
    "python": {
     "delete_cmd_postfix": "",
     "delete_cmd_prefix": "del ",
     "library": "var_list.py",
     "varRefreshCmd": "print(var_dic_list())"
    },
    "r": {
     "delete_cmd_postfix": ") ",
     "delete_cmd_prefix": "rm(",
     "library": "var_list.r",
     "varRefreshCmd": "cat(var_dic_list()) "
    }
   },
   "types_to_exclude": [
    "module",
    "function",
    "builtin_function_or_method",
    "instance",
    "_Feature"
   ],
   "window_display": false
  }
 },
 "nbformat": 4,
 "nbformat_minor": 5
}
