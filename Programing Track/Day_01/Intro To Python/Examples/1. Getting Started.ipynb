{
 "cells": [
  {
   "cell_type": "markdown",
   "metadata": {},
   "source": [
    "# Variables in Python\n",
    "There are several different DataTypes in python. Those are:\n",
    "## Integer"
   ]
  },
  {
   "cell_type": "code",
   "execution_count": 1,
   "metadata": {},
   "outputs": [
    {
     "name": "stdout",
     "output_type": "stream",
     "text": [
      "1\n",
      "<class 'int'>\n"
     ]
    }
   ],
   "source": [
    "number: int = 1\n",
    "print(number)\n",
    "print(type(number))"
   ]
  },
  {
   "cell_type": "markdown",
   "metadata": {},
   "source": [
    "## Float"
   ]
  },
  {
   "cell_type": "code",
   "execution_count": 2,
   "metadata": {},
   "outputs": [
    {
     "name": "stdout",
     "output_type": "stream",
     "text": [
      "1.0\n",
      "<class 'float'>\n"
     ]
    }
   ],
   "source": [
    "number: float = 1.0\n",
    "print(number)\n",
    "print(type(number))"
   ]
  },
  {
   "cell_type": "markdown",
   "metadata": {},
   "source": [
    "## String"
   ]
  },
  {
   "cell_type": "code",
   "execution_count": 14,
   "metadata": {},
   "outputs": [
    {
     "name": "stdout",
     "output_type": "stream",
     "text": [
      "Hello\n",
      "<class 'str'>\n"
     ]
    }
   ],
   "source": [
    "word: str = \"Hello\"\n",
    "print(word)\n",
    "print(type(word))\n",
    "# word[0] = \"h\" # TypeError: 'str' object does not support item assignment"
   ]
  },
  {
   "cell_type": "markdown",
   "metadata": {},
   "source": [
    "## List Type"
   ]
  },
  {
   "cell_type": "code",
   "execution_count": 4,
   "metadata": {},
   "outputs": [
    {
     "name": "stdout",
     "output_type": "stream",
     "text": [
      "['Hello', 'World', 'This', 'is', 'a', 'list']\n",
      "<class 'list'>\n",
      "2224322664896\n",
      "2224322664896\n",
      "['New word', 'World', 'This', 'is', 'a', 'list', 'Another New word']\n",
      "['First word', 'New word', 'World', 'This', 'is', 'a', 'list', 'Another New word']\n",
      "['This', 'World', 'New word']\n",
      "['This', 'is', 'a', 'list', 'Another New word']\n",
      "['First word', 'New word', 'World']\n",
      "Another New word\n",
      "list\n",
      "['a', 'list', 'Another New word']\n",
      "['First word', 'New word', 'World', 'This', 'is']\n",
      "['New word', 'World', 'This', 'is', 'a', 'list', 'Another New word']\n",
      "['New word', 'World', 'This', 'is', 'a', 'list']\n",
      "['New word', 'World', 'This', 'is', 'a']\n",
      "[]\n"
     ]
    }
   ],
   "source": [
    "# Creating a list\n",
    "multiple_words: list = [\"Hello\", \"World\", \"This\", \"is\", \"a\", \"list\"]\n",
    "print(multiple_words)\n",
    "print(type(multiple_words))\n",
    "print(id(multiple_words))\n",
    "\n",
    "# Updating item in list\n",
    "multiple_words[0] = \"New word\"\n",
    "\n",
    "# Adding item to end of list\n",
    "multiple_words.append(\"Another New word\")\n",
    "print(id(multiple_words))\n",
    "print(multiple_words)\n",
    "\n",
    "# Inserting item at specific index\n",
    "multiple_words.insert(0, \"First word\")\n",
    "print(multiple_words)\n",
    "\n",
    "# List slicing\n",
    "print(multiple_words[3:0:-1])\n",
    "print(multiple_words[3:])\n",
    "print(multiple_words[:3])\n",
    "print(multiple_words[-1])\n",
    "print(multiple_words[-2])\n",
    "print(multiple_words[-3:])\n",
    "print(multiple_words[:-3])\n",
    "\n",
    "# Deleting item from list\n",
    "del multiple_words[0]\n",
    "print(multiple_words)\n",
    "\n",
    "# Different way to delete item from list\n",
    "multiple_words.remove(\"Another New word\")\n",
    "print(multiple_words)\n",
    "\n",
    "# Pop item from list\n",
    "multiple_words.pop() # Removes last item, unless index is specified\n",
    "print(multiple_words)\n",
    "\n",
    "# Deleting all items from list\n",
    "multiple_words.clear()\n",
    "print(multiple_words)"
   ]
  },
  {
   "cell_type": "markdown",
   "metadata": {},
   "source": [
    "## Tuple"
   ]
  },
  {
   "cell_type": "code",
   "execution_count": 19,
   "metadata": {},
   "outputs": [
    {
     "name": "stdout",
     "output_type": "stream",
     "text": [
      "('Hello', 'World', 'This', 'is', 'a', 'tuple')\n",
      "<class 'tuple'>\n",
      "3150408814688\n",
      "('Hello', 'World', 'This', 'is', 'a', 'tuple', 'New word')\n",
      "3150408814208\n"
     ]
    }
   ],
   "source": [
    "my_set: tuple = (\"Hello\", \"World\", \"This\", \"is\", \"a\", \"tuple\")\n",
    "print(my_set)\n",
    "print(type(my_set))\n",
    "print(id(my_set))\n",
    "# Tuple[0] = \"New word\" # TypeError: 'tuple' object does not support item assignment\n",
    "my_set = my_set + (\"New word\",)\n",
    "print(my_set)\n",
    "print(id(my_set))"
   ]
  },
  {
   "cell_type": "markdown",
   "metadata": {},
   "source": [
    "## Dictionary"
   ]
  },
  {
   "cell_type": "code",
   "execution_count": 16,
   "metadata": {},
   "outputs": [
    {
     "name": "stdout",
     "output_type": "stream",
     "text": [
      "Current dictionary:  {'key1': 'value1', 'key2': 'value2'}\n",
      "<class 'dict'>\n",
      "Key1 =  value1\n",
      "Key3 =  None\n",
      "Key3 =  default value\n",
      "Key3 after adding it =  value3\n",
      "Current dictionary:  {'key1': 'value1 updated', 'key2': 'value2', 'key3': 'value3', 'key4': 'value4', (1, 2): 'tuple as key'}\n",
      "tuple as key ,  value1 updated ,  value4\n",
      "Current dictionary:  {'key2': 'value2', 'key3': 'value3', 'key4': 'value4', (1, 2): 'tuple as key'}\n",
      "Current dictionary:  {'key3': 'value3', 'key4': 'value4', (1, 2): 'tuple as key'}\n",
      "Value of key2 =  value2\n"
     ]
    }
   ],
   "source": [
    "# Creating a dictionary\n",
    "dictionary: dict = {\"key1\": \"value1\", \"key2\": \"value2\"}\n",
    "print(\"Current dictionary: \", dictionary)\n",
    "print(type(dictionary))\n",
    "\n",
    "# Accessing a value\n",
    "print(\"Key1 = \" , dictionary.get(\"key1\"))\n",
    "print(\"Key3 = \", dictionary.get(\"key3\"))\n",
    "print(\"Key3 = \" , dictionary.get(\"key3\", \"default value\"))\n",
    "\n",
    "# Adding a new key\n",
    "dictionary[\"key3\"] = \"value3\"\n",
    "print(\"Key3 after adding it = \" , dictionary.get(\"key3\", \"default value\"))\n",
    "\n",
    "# updating multiple values\n",
    "dictionary.update({\"key4\": \"value4\", \"key1\": \"value1 updated\", (1, 2): \"tuple as key\"})\n",
    "print(\"Current dictionary: \", dictionary)\n",
    "print(dictionary.get((1, 2)), \", \" , dictionary.get(\"key1\"),  \", \" , dictionary.get(\"key4\"))\n",
    "\n",
    "# deleting a key\n",
    "del dictionary[\"key1\"]\n",
    "print(\"Current dictionary: \", dictionary)\n",
    "\n",
    "# different way to delete key\n",
    "value = dictionary.pop(\"key2\")\n",
    "print(\"Current dictionary: \", dictionary)\n",
    "print(\"Value of key2 = \", value)"
   ]
  },
  {
   "cell_type": "markdown",
   "metadata": {},
   "source": [
    "## Boolean"
   ]
  },
  {
   "cell_type": "code",
   "execution_count": 23,
   "metadata": {},
   "outputs": [
    {
     "name": "stdout",
     "output_type": "stream",
     "text": [
      "True\n",
      "<class 'bool'>\n"
     ]
    }
   ],
   "source": [
    "yes_no: bool = True\n",
    "print(yes_no)\n",
    "print(type(yes_no))"
   ]
  },
  {
   "cell_type": "markdown",
   "metadata": {},
   "source": [
    "## Set"
   ]
  },
  {
   "cell_type": "code",
   "execution_count": 6,
   "metadata": {},
   "outputs": [
    {
     "name": "stdout",
     "output_type": "stream",
     "text": [
      "{'is', 'a', 'set', 'Hello', 'This', 'World'}\n",
      "<class 'set'>\n",
      "2224325065664\n",
      "{'is', 'a', 'New word', 'set', 'Hello', 'This', 'World'}\n",
      "{'Another new word', 'This', 'set', 'is', 'Hello', 'One more new word', 'a', 'New word', 'World'}\n",
      "2224325065664\n",
      "{'is', 'a', 'set', 'Hello', 'This', 'World'}\n",
      "{1, 2, 3, 4, 5, 6, 7, 8, 9, 10, 'This', 'set', 'is', 'Hello', 'a', 'World'}\n",
      "{1, 2, 3, 4, 5, 6, 7, 8, 9, 10, 'This', 'set', 'is', 'a', 'World'}\n"
     ]
    }
   ],
   "source": [
    "my_set: set = {\"Hello\", \"World\", \"This\", \"is\", \"a\", \"set\"}\n",
    "print(my_set)\n",
    "print(type(my_set))\n",
    "print(id(my_set))\n",
    "\n",
    "# Adding item to set\n",
    "my_set.add(\"New word\")\n",
    "print(my_set)\n",
    "\n",
    "# Adding multiple items to set\n",
    "my_set.update([\"Another new word\", \"One more new word\"])\n",
    "print(my_set)\n",
    "print(id(my_set))\n",
    "\n",
    "# Creating set with duplicate items\n",
    "my_set: set = {\"Hello\", \"World\", \"This\", \"is\", \"a\", \"set\", \"Hello\", \"World\", \"This\", \"is\", \"a\", \"set\"}\n",
    "print(my_set)\n",
    "\n",
    "# Creating set with different data types\n",
    "my_set: set = {\"Hello\", \"World\", \"This\", \"is\", \"a\", \"set\", 1, 2, 3, 4, 5, 6, 7, 8, 9, 10}\n",
    "print(my_set)\n",
    "\n",
    "# Removing item from set\n",
    "my_set.discard(\"Hello\")\n",
    "print(my_set)"
   ]
  },
  {
   "cell_type": "markdown",
   "metadata": {},
   "source": [
    "## Frozen Set"
   ]
  },
  {
   "cell_type": "code",
   "execution_count": 45,
   "metadata": {},
   "outputs": [
    {
     "name": "stdout",
     "output_type": "stream",
     "text": [
      "frozenset({'a', 'frozen set', 'is', 'This', 'World', 'Hello'})\n",
      "<class 'frozenset'>\n"
     ]
    }
   ],
   "source": [
    "frozen_set: frozenset = frozenset({\"Hello\", \"World\", \"This\", \"is\", \"a\", \"frozen set\"})\n",
    "print(frozen_set)\n",
    "print(type(frozen_set))\n",
    "\n",
    "# FrozenSet.add(\"New word\") # AttributeError: 'frozenset' object has no attribute 'add'\n"
   ]
  }
 ],
 "metadata": {
  "kernelspec": {
   "display_name": "Python 3.10.5 64-bit",
   "language": "python",
   "name": "python3"
  },
  "language_info": {
   "codemirror_mode": {
    "name": "ipython",
    "version": 3
   },
   "file_extension": ".py",
   "mimetype": "text/x-python",
   "name": "python",
   "nbconvert_exporter": "python",
   "pygments_lexer": "ipython3",
   "version": "3.10.5"
  },
  "orig_nbformat": 4,
  "vscode": {
   "interpreter": {
    "hash": "b0d9c7fd3642b660ffedf3a77d11c31e11ccbd2a913cb9ccb12c86252838bb24"
   }
  }
 },
 "nbformat": 4,
 "nbformat_minor": 2
}
