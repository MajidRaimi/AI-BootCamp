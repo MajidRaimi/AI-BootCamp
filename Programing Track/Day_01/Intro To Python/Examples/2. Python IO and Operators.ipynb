{
 "cells": [
  {
   "cell_type": "markdown",
   "metadata": {},
   "source": [
    "# Python IO\n",
    "Dealing with python input and output\n",
    "## Input/Output"
   ]
  },
  {
   "cell_type": "code",
   "execution_count": 2,
   "metadata": {},
   "outputs": [
    {
     "name": "stdout",
     "output_type": "stream",
     "text": [
      "15\n",
      "<class 'str'>\n",
      "<class 'int'>\n",
      "Welcome to AI Course!!\n",
      "Welcome to AI Course!!\n",
      "['Line 1', 'Line 2', 'Line 3', 'Line 4']\n",
      "Line 1\n",
      "\n",
      "Line 2\n",
      "\n",
      "Line 3\n",
      "\n",
      "Line 4\n"
     ]
    }
   ],
   "source": [
    "# Create a variable and get its input from the user\n",
    "# The input function always returns a string\n",
    "Variable = input(\"Enter a value: \")\n",
    "# Print the variable\n",
    "print(Variable)\n",
    "print(type(Variable))\n",
    "\n",
    "# Convert the variable to an integer\n",
    "Variable = int(Variable)\n",
    "print(type(Variable))\n",
    "\n",
    "# Can also get input from file\n",
    "File = open(\"resources/input.txt\", \"r\")\n",
    "Variable = File.read()\n",
    "File.close()\n",
    "print(Variable)\n",
    "\n",
    "# Pythonic way to read a file\n",
    "with open(\"resources/input.txt\", \"r\") as File:\n",
    "    Variable = File.read()\n",
    "    print(Variable)\n",
    "# Read file line by line and print lines\n",
    "with open(\"resources/input2.txt\", \"r\") as File:\n",
    "    lines = File.read().splitlines()\n",
    "    print(lines)\n",
    "\n",
    "# Write into a file\n",
    "with open(\"output.txt\", \"w\") as File:\n",
    "    File.write(\"Hello World\")\n"
   ]
  },
  {
   "cell_type": "markdown",
   "metadata": {},
   "source": [
    "## Operators"
   ]
  },
  {
   "cell_type": "markdown",
   "metadata": {},
   "source": [
    "### Arithmetic Operators"
   ]
  },
  {
   "cell_type": "code",
   "execution_count": 7,
   "metadata": {},
   "outputs": [
    {
     "name": "stdout",
     "output_type": "stream",
     "text": [
      "9 + 4 = 13\n",
      "9 - 4 = 5\n",
      "9 * 4 = 36\n",
      "9 / 4 = 2.25\n",
      "9 // 4 = 2\n",
      "9 % 4 = 1\n",
      "9 ** 4 = 6561\n"
     ]
    }
   ],
   "source": [
    "number = 9\n",
    "other_number = 4\n",
    "print(f\"{number} + {other_number} = {number + other_number}\")\n",
    "print(f\"{number} - {other_number} = {number - other_number}\")\n",
    "print(f\"{number} * {other_number} = {number * other_number}\")\n",
    "print(f\"{number} / {other_number} = {number / other_number}\")\n",
    "print(f\"{number} // {other_number} = {number // other_number}\")\n",
    "print(f\"{number} % {other_number} = {number % other_number}\")\n",
    "print(f\"{number} ** {other_number} = {number ** other_number}\")\n",
    "\n"
   ]
  },
  {
   "cell_type": "markdown",
   "metadata": {},
   "source": [
    "### Assignment Operators"
   ]
  },
  {
   "cell_type": "code",
   "execution_count": 9,
   "metadata": {},
   "outputs": [
    {
     "name": "stdout",
     "output_type": "stream",
     "text": [
      "11\n",
      "10\n",
      "20\n",
      "10.0\n",
      "5.0\n",
      "1.0\n",
      "4\n"
     ]
    }
   ],
   "source": [
    "number = 10\n",
    "# increment by 1\n",
    "number += 1\n",
    "print(number)\n",
    "# decrement by 1\n",
    "number -= 1\n",
    "print(number)\n",
    "# multiply by 2\n",
    "number *= 2\n",
    "print(number)\n",
    "# divide by 2\n",
    "number /= 2\n",
    "print(number)\n",
    "# divide by 2 and round down\n",
    "number //= 2\n",
    "print(number)\n",
    "# modulo\n",
    "number %= 2\n",
    "print(number)\n",
    "# exponent\n",
    "number = 2\n",
    "number **= 2\n",
    "print(number)"
   ]
  },
  {
   "cell_type": "markdown",
   "metadata": {},
   "source": [
    "### Comparison Operators"
   ]
  },
  {
   "cell_type": "code",
   "execution_count": null,
   "metadata": {},
   "outputs": [],
   "source": [
    "number = 10\n",
    "other_number = 5\n",
    "print(f\"{number} == {other_number} = {number == other_number}\")\n",
    "print(f\"{number} != {other_number} = {number != other_number}\")\n",
    "print(f\"{number} > {other_number} = {number > other_number}\")\n",
    "print(f\"{number} < {other_number} = {number < other_number}\")\n",
    "print(f\"{number} >= {other_number} = {number >= other_number}\")\n",
    "print(f\"{number} <= {other_number} = {number <= other_number}\")"
   ]
  },
  {
   "cell_type": "markdown",
   "metadata": {},
   "source": [
    "### Logical Operators"
   ]
  },
  {
   "cell_type": "code",
   "execution_count": 12,
   "metadata": {},
   "outputs": [
    {
     "name": "stdout",
     "output_type": "stream",
     "text": [
      "True and False = False\n",
      "True and True = True\n",
      "True or False = True\n",
      "not True = False\n"
     ]
    }
   ],
   "source": [
    "yes = True\n",
    "no = False\n",
    "print(f\"{yes} and {no} = {yes and no}\")\n",
    "print(f\"{yes} and {yes} = {yes and yes}\")\n",
    "print(f\"{yes} or {no} = {yes or no}\")\n",
    "print(f\"not {yes} = {not yes}\")\n"
   ]
  },
  {
   "cell_type": "markdown",
   "metadata": {},
   "source": [
    "### bitwise Operators"
   ]
  },
  {
   "cell_type": "code",
   "execution_count": 14,
   "metadata": {},
   "outputs": [
    {
     "name": "stdout",
     "output_type": "stream",
     "text": [
      "10 & 5 = 0\n",
      "10 | 5 = 15\n",
      "10 ^ 5 = 15\n",
      "~10 = -11\n",
      "10 << 1 = 20\n",
      "10 >> 1 = 5\n"
     ]
    }
   ],
   "source": [
    "number = 10 # 1010\n",
    "other_number = 5 # 0101\n",
    "print(f\"{number} & {other_number} = {number & other_number}\") # bitwise AND 0000\n",
    "print(f\"{number} | {other_number} = {number | other_number}\") # bitwise OR 1111\n",
    "print(f\"{number} ^ {other_number} = {number ^ other_number}\") # bitwise XOR 1111\n",
    "print(f\"~{number} = {~number}\") # bitwise NOT -11 (2's complement) 0101\n",
    "print(f\"{number} << 1 = {number << 1}\") # bitwise left shift 10100\n",
    "print(f\"{number} >> 1 = {number >> 1}\") # bitwise right shift 101\n"
   ]
  },
  {
   "cell_type": "markdown",
   "metadata": {},
   "source": [
    "### Special Operators"
   ]
  },
  {
   "cell_type": "code",
   "execution_count": 18,
   "metadata": {},
   "outputs": [
    {
     "name": "stdout",
     "output_type": "stream",
     "text": [
      "Hello World is Hello World = False\n",
      "string id = 2208852748912\n",
      "second_string id = 2208852753968\n",
      "Hello World is not Hello World = True\n",
      "'H' in Hello World = True\n",
      "'H' not in Hello World = False\n"
     ]
    }
   ],
   "source": [
    "string = \"Hello World\"\n",
    "second_string = \"Hello World\"\n",
    "# is operator\n",
    "print(f\"{string} is {second_string} = {string is second_string}\")\n",
    "# IDs\n",
    "print(f\"string id = {id(string)}\")\n",
    "print(f\"second_string id = {id(second_string)}\")\n",
    "# is not operator\n",
    "print(f\"{string} is not {second_string} = {string is not second_string}\")\n",
    "# in operator\n",
    "print(f\"'H' in {string} = {'H' in string}\")\n",
    "# not in operator\n",
    "print(f\"'H' not in {string} = {'H' not in string}\")"
   ]
  }
 ],
 "metadata": {
  "kernelspec": {
   "display_name": "Python 3.10.4 64-bit",
   "language": "python",
   "name": "python3"
  },
  "language_info": {
   "codemirror_mode": {
    "name": "ipython",
    "version": 3
   },
   "file_extension": ".py",
   "mimetype": "text/x-python",
   "name": "python",
   "nbconvert_exporter": "python",
   "pygments_lexer": "ipython3",
   "version": "3.10.5"
  },
  "orig_nbformat": 4,
  "vscode": {
   "interpreter": {
    "hash": "b0d9c7fd3642b660ffedf3a77d11c31e11ccbd2a913cb9ccb12c86252838bb24"
   }
  }
 },
 "nbformat": 4,
 "nbformat_minor": 2
}
