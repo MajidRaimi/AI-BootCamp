{
 "cells": [
  {
   "cell_type": "markdown",
   "metadata": {},
   "source": [
    "# Functions\n"
   ]
  },
  {
   "cell_type": "markdown",
   "metadata": {},
   "source": [
    "## Python functions\n",
    "### Implicit calls to functions"
   ]
  },
  {
   "cell_type": "code",
   "execution_count": 3,
   "metadata": {},
   "outputs": [
    {
     "name": "stdout",
     "output_type": "stream",
     "text": [
      "Hello World\n",
      "abs(-5) = 5\n",
      "max(1, 2, 3, 4, 5) = 5\n",
      "min(1, 2, 3, 4, 5) = 1\n",
      "round(3.14159) = 3\n",
      "round(3.14159, 2) = 3.14\n",
      "pow(2, 3) = 8\n",
      "pow(2, 3, 3) = 8\n",
      "sum([1, 2, 3, 4, 5]) = 15\n",
      "sum([1, 2, 3, 4, 5], 10) = 25\n",
      "len('Hello World') = 11\n",
      "len([1, 2, 3, 4, 5]) = 5\n"
     ]
    }
   ],
   "source": [
    "# Python function examples\n",
    "print(\"Hello World\")\n",
    "print(f\"abs(-5) = {abs(-5)}\")\n",
    "print(f\"max(1, 2, 3, 4, 5) = {max(1, 2, 3, 4, 5)}\")\n",
    "print(f\"min(1, 2, 3, 4, 5) = {min(1, 2, 3, 4, 5)}\")\n",
    "print(f\"round(3.14159) = {round(3.14159)}\")\n",
    "print(f\"round(3.14159, 2) = {round(3.14159, 2)}\")\n",
    "print(f\"pow(2, 3) = {pow(2, 3)}\")\n",
    "print(f\"pow(2, 3, 3) = {pow(2, 3)}\")\n",
    "print(f\"sum([1, 2, 3, 4, 5]) = {sum([1, 2, 3, 4, 5])}\")\n",
    "print(f\"sum([1, 2, 3, 4, 5], 10) = {sum([1, 2, 3, 4, 5], 10)}\")\n",
    "print(f\"len('Hello World') = {len('Hello World')}\")\n",
    "print(f\"len([1, 2, 3, 4, 5]) = {len([1, 2, 3, 4, 5])}\")\n"
   ]
  },
  {
   "cell_type": "markdown",
   "metadata": {},
   "source": [
    "### Explicit calls to functions"
   ]
  },
  {
   "cell_type": "code",
   "execution_count": 5,
   "metadata": {},
   "outputs": [
    {
     "name": "stdout",
     "output_type": "stream",
     "text": [
      "math.ceil(3.14159) = 4\n",
      "math.floor(3.14159) = 3\n",
      "math.fabs(-3.14159) = 3.14159\n",
      "math.factorial(5) = 120\n",
      "math.fsum([1, 2, 3, 4, 5]) = 15.0\n",
      "math.gcd(12, 18) = 6\n",
      "math.isfinite(3.14159) = True\n",
      "math.isfinite(math.inf) = False\n",
      "math.isinf(3.14159) = False\n"
     ]
    }
   ],
   "source": [
    "import math\n",
    "print(f\"math.ceil(3.14159) = {math.ceil(3.14159)}\")\n",
    "print(f\"math.floor(3.14159) = {math.floor(3.14159)}\")\n",
    "print(f\"math.fabs(-3.14159) = {math.fabs(-3.14159)}\")\n",
    "print(f\"math.factorial(5) = {math.factorial(5)}\")\n",
    "print(f\"math.fsum([1, 2, 3, 4, 5]) = {math.fsum([1, 2, 3, 4, 5])}\")\n",
    "print(f\"math.gcd(12, 18) = {math.gcd(12, 18)}\")"
   ]
  },
  {
   "cell_type": "markdown",
   "metadata": {},
   "source": [
    "## User-defined functions"
   ]
  },
  {
   "cell_type": "code",
   "execution_count": 10,
   "metadata": {},
   "outputs": [
    {
     "name": "stdout",
     "output_type": "stream",
     "text": [
      "Hello World\n",
      "Hello Radwan\n",
      "Hello World\n",
      "Hello James\n",
      "Hello Radwan, you are 21 years old\n",
      "Hello World, you are 18 years old\n",
      "Hello James, you are 21 years old\n",
      "Hello World, you are 18 years old\n",
      "Hello ('Hello', 'World')\n",
      "Hello {'name': 'Hello', 'age': 18}\n"
     ]
    }
   ],
   "source": [
    "# Function with no arguments\n",
    "def hello_world():\n",
    "    print(\"Hello World\")\n",
    "hello_world()\n",
    "\n",
    "# Function with arguments\n",
    "def hello_name(name: str):\n",
    "    print(f\"Hello {name}\")\n",
    "hello_name(f\"Radwan\")\n",
    "\n",
    "# Function with default argument\n",
    "def hello_name_default(name=\"World\"):\n",
    "    print(f\"Hello {name}\")\n",
    "hello_name_default()\n",
    "hello_name_default(\"James\")\n",
    "\n",
    "# Function with multiple arguments\n",
    "def hello_name_age(name: str, age :int):\n",
    "    print(f\"Hello {name}, you are {age} years old\")\n",
    "hello_name_age(\"Radwan\", 21)\n",
    "\n",
    "# Function with multiple arguments and default argument\n",
    "def hello_name_age_default(name=\"World\", age=18):\n",
    "    print(f\"Hello {name}, you are {age} years old\")\n",
    "hello_name_age_default()\n",
    "hello_name_age_default(\"James\", 21)\n",
    "\n",
    "# function with return value\n",
    "def hello_return(name=\"World\", age=18):\n",
    "    return f\"Hello {name}, you are {age} years old\"\n",
    "my_string = hello_return()\n",
    "print(my_string)\n",
    "\n",
    "# Function with variable number of arguments\n",
    "def hello_args(*args):\n",
    "    print(f\"Hello {args}\")\n",
    "hello_args(\"Hello\", \"World\")\n",
    "\n",
    "# Function with variable number of keyword arguments\n",
    "def hello_kwargs(**kwargs):\n",
    "    print(f\"Hello {kwargs}\")\n",
    "hello_kwargs(name=\"Hello\", age=18)"
   ]
  },
  {
   "cell_type": "code",
   "execution_count": null,
   "metadata": {},
   "outputs": [],
   "source": []
  }
 ],
 "metadata": {
  "kernelspec": {
   "display_name": "Python 3.10.5 64-bit",
   "language": "python",
   "name": "python3"
  },
  "language_info": {
   "codemirror_mode": {
    "name": "ipython",
    "version": 3
   },
   "file_extension": ".py",
   "mimetype": "text/x-python",
   "name": "python",
   "nbconvert_exporter": "python",
   "pygments_lexer": "ipython3",
   "version": "3.10.5"
  },
  "orig_nbformat": 4,
  "vscode": {
   "interpreter": {
    "hash": "b0d9c7fd3642b660ffedf3a77d11c31e11ccbd2a913cb9ccb12c86252838bb24"
   }
  }
 },
 "nbformat": 4,
 "nbformat_minor": 2
}
