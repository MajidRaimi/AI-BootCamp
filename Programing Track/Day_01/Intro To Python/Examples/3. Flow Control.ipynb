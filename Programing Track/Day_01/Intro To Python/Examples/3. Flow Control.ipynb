{
 "cells": [
  {
   "cell_type": "markdown",
   "metadata": {},
   "source": [
    "# Flow Control in Python\n",
    "## 1. if-elif-else"
   ]
  },
  {
   "cell_type": "code",
   "execution_count": 6,
   "metadata": {},
   "outputs": [
    {
     "name": "stdout",
     "output_type": "stream",
     "text": [
      "[16, 25]\n",
      "16 is even\n",
      "16 is even\n",
      "16 is even and 25 is odd\n",
      "16 is in the list\n",
      "16 is in the list\n"
     ]
    }
   ],
   "source": [
    "# Read numbers from file and append them to a list\n",
    "numbers = []\n",
    "with open(\"resources/numbers.txt\") as f:\n",
    "    for line in f:\n",
    "        numbers.append(int(line))\n",
    "print(numbers)\n",
    "\n",
    "# Check if number is even\n",
    "if numbers[0] % 2 == 0:\n",
    "    print(f\"{numbers[0]} is even\")\n",
    "else:\n",
    "    print(f\"{numbers[0]} is odd\")\n",
    "\n",
    "# Using elif\n",
    "if numbers[0] % 2 == 0:\n",
    "    print(f\"{numbers[0]} is even\")\n",
    "elif numbers[1] % 2 == 0:\n",
    "    print(f\"{numbers[1]} is even\")\n",
    "else:\n",
    "    print(f\"{numbers[0]} and {numbers[1]} are odd\")\n",
    "\n",
    "# Using nested if\n",
    "if numbers[0] % 2 == 0:\n",
    "    if numbers[1] % 2 == 0:\n",
    "        print(f\"{numbers[0]} and {numbers[1]} are even\")\n",
    "    else:\n",
    "        print(f\"{numbers[0]} is even and {numbers[1]} is odd\")\n",
    "else:\n",
    "    if numbers[1] % 2 == 0:\n",
    "        print(f\"{numbers[0]} is odd and {numbers[1]} is even\")\n",
    "    else:\n",
    "        print(f\"{numbers[0]} and {numbers[1]} are odd\")\n",
    "\n",
    "# Using in to check if a value is in a list\n",
    "if 16 in numbers:\n",
    "    print(\"16 is in the list\")\n",
    "else:\n",
    "    print(\"16 is not in the list\")\n",
    "\n",
    "# Using not in to check if a value is not in a list\n",
    "if 16 not in numbers:\n",
    "    print(\"16 is not in the list\")\n",
    "else:\n",
    "    print(\"16 is in the list\")\n"
   ]
  },
  {
   "cell_type": "markdown",
   "metadata": {},
   "source": [
    "## 2. for"
   ]
  },
  {
   "cell_type": "code",
   "execution_count": 16,
   "metadata": {},
   "outputs": [
    {
     "name": "stdout",
     "output_type": "stream",
     "text": [
      "[0, 1, 2, 3, 4, 5, 6, 7, 8, 9, 10, 11, 12, 13, 14, 15, 16, 17, 18, 19, 20, 21, 22, 23, 24, 25, 26, 27, 28, 29, 30, 31, 32, 33, 34, 35, 36, 37, 38, 39, 40, 41, 42, 43, 44, 45, 46, 47, 48, 49, 50, 51, 52, 53, 54, 55, 56, 57, 58, 59, 60, 61, 62, 63, 64, 65, 66, 67, 68, 69, 70, 71, 72, 73, 74, 75, 76, 77, 78, 79, 80, 81, 82, 83, 84, 85, 86, 87, 88, 89, 90, 91, 92, 93, 94, 95, 96, 97, 98, 99, 100]\n",
      "[0, 2, 4, 6, 8, 10, 12, 14, 16, 18, 20, 22, 24, 26, 28, 30, 32, 34, 36, 38, 40, 42, 44, 46, 48, 50, 52, 54, 56, 58, 60, 62, 64, 66, 68, 70, 72, 74, 76, 78, 80, 82, 84, 86, 88, 90, 92, 94, 96, 98, 100]\n",
      "[1, 3, 5, 7, 9, 11, 13, 15, 17, 19, 21, 23, 25, 27, 29, 31, 33, 35, 37, 39, 41, 43, 45, 47, 49, 51, 53, 55, 57, 59, 61, 63, 65, 67, 69, 71, 73, 75, 77, 79, 81, 83, 85, 87, 89, 91, 93, 95, 97, 99]\n",
      "{'even': [0, 2, 4, 6, 8, 10, 12, 14, 16, 18, 20, 22, 24, 26, 28, 30, 32, 34, 36, 38, 40, 42, 44, 46, 48, 50, 52, 54, 56, 58, 60, 62, 64, 66, 68, 70, 72, 74, 76, 78, 80, 82, 84, 86, 88, 90, 92, 94, 96, 98, 100], 'odd': [1, 3, 5, 7, 9, 11, 13, 15, 17, 19, 21, 23, 25, 27, 29, 31, 33, 35, 37, 39, 41, 43, 45, 47, 49, 51, 53, 55, 57, 59, 61, 63, 65, 67, 69, 71, 73, 75, 77, 79, 81, 83, 85, 87, 89, 91, 93, 95, 97, 99]}\n",
      "name: John\n",
      "age: 30\n",
      "city: New York\n",
      "C+\n"
     ]
    }
   ],
   "source": [
    "# Read numbers from file and append them to a list\n",
    "numbers = []\n",
    "with open(\"resources/lotsOfNumbers.txt\") as f:\n",
    "    for line in f:\n",
    "        numbers.append(int(line))\n",
    "print(numbers)\n",
    "\n",
    "# Using for loop to iterate through a list create even numbers list and odd numbers list\n",
    "even_numbers = []\n",
    "odd_numbers = []\n",
    "for number in numbers:\n",
    "    if number % 2 == 0:\n",
    "        even_numbers.append(number)\n",
    "    else:\n",
    "        odd_numbers.append(number)\n",
    "print(even_numbers)\n",
    "print(odd_numbers)\n",
    "\n",
    "# Use list comprehension to create even numbers list and odd numbers list\n",
    "even_numbers = [number for number in numbers if number % 2 == 0]\n",
    "odd_numbers = [number for number in numbers if number % 2 != 0]\n",
    "\n",
    "# Use for loop to create dictionary of even numbers and odd numbers\n",
    "sorted_numbers = {}\n",
    "for number in numbers:\n",
    "    if number % 2 == 0:\n",
    "        if \"even\" in sorted_numbers:\n",
    "            sorted_numbers[\"even\"].append(number)\n",
    "        else:\n",
    "            sorted_numbers[\"even\"] = [number]\n",
    "    else:\n",
    "        if \"odd\" in sorted_numbers:\n",
    "            sorted_numbers[\"odd\"].append(number)\n",
    "        else:\n",
    "            sorted_numbers[\"odd\"] = [number]\n",
    "\n",
    "# Same thing using list comprehension\n",
    "sorted_numbers = {\"even\": [number for number in numbers if number % 2 == 0],\n",
    "                  \"odd\": [number for number in numbers if number % 2 != 0]\n",
    "                 }\n",
    "print(sorted_numbers)\n",
    "\n",
    "# Example using dictionary\n",
    "GPA_convert = {(95, 100) : \"A+\" , (90, 95) : \"A \", (85, 90) : \"B+\", (80, 85) : \"B \", (75, 80): \"C+\", (70 , 75) : \"C \", (65, 70) : \"D+\", (60, 65) : \"D \", (0, 60) : \"F \"}\n",
    "letter_grade = 77\n",
    "for key, value in GPA_convert.items():\n",
    "    if letter_grade >= key[0] and letter_grade < key[1]:\n",
    "        print(value)"
   ]
  },
  {
   "cell_type": "markdown",
   "metadata": {},
   "source": [
    "## 3. while"
   ]
  },
  {
   "cell_type": "code",
   "execution_count": 18,
   "metadata": {},
   "outputs": [
    {
     "name": "stdout",
     "output_type": "stream",
     "text": [
      "You have passed level 0\n",
      "You have passed level 1\n",
      "You have passed level 2\n",
      "You have passed level 3\n",
      "You have passed level 4\n",
      "You have passed level 5\n",
      "Level Ends\n"
     ]
    }
   ],
   "source": [
    "# while loop example\n",
    "current_level = 0\n",
    "final_level = 5\n",
    "\n",
    "game_completed = True\n",
    "\n",
    "while current_level <= final_level:\n",
    "    if game_completed:\n",
    "        print('You have passed level', current_level)\n",
    "        current_level += 1\n",
    "\n",
    "print('Level Ends')"
   ]
  },
  {
   "cell_type": "markdown",
   "metadata": {},
   "source": [
    "## 4. break and continue"
   ]
  },
  {
   "cell_type": "code",
   "execution_count": 20,
   "metadata": {},
   "outputs": [
    {
     "name": "stdout",
     "output_type": "stream",
     "text": [
      "[0, 1, 2, 3, 4, 5, 6, 7, 8, 9, 10, 11, 12, 13, 14, 15, 16, 17, 18, 19, 20, 21, 22, 23, 24, 25, 26, 27, 28, 29, 30, 31, 32, 33, 34, 35, 36, 37, 38, 39, 40, 41, 42, 43, 44, 45, 46, 47, 48, 49, 50, 51, 52, 53, 54, 55, 56, 57, 58, 59, 60, 61, 62, 63, 64, 65, 66, 67, 68, 69, 70, 71, 72, 73, 74, 75, 76, 77, 78, 79, 80, 81, 82, 83, 84, 85, 86, 87, 88, 89, 90, 91, 92, 93, 94, 95, 96, 97, 98, 99, 100]\n",
      "[0, 2, 4, 6, 8, 10, 12, 14, 16, 18, 20, 22, 24, 26, 28, 30, 32, 34, 36, 38, 40, 42, 44, 46, 48, 76, 78]\n",
      "[1, 3, 5, 7, 9, 11, 13, 15, 17, 19, 21, 23, 25, 27, 29, 31, 33, 35, 37, 39, 41, 43, 45, 47, 49, 75, 77, 79]\n"
     ]
    }
   ],
   "source": [
    "# Read numbers from file and append them to a list\n",
    "numbers = []\n",
    "with open(\"resources/lotsOfNumbers.txt\") as f:\n",
    "    for line in f:\n",
    "        numbers.append(int(line))\n",
    "print(numbers)\n",
    "\n",
    "# Using for loop to iterate through a list create even numbers list and odd numbers list\n",
    "even_numbers = []\n",
    "odd_numbers = []\n",
    "for number in numbers:\n",
    "    if number in range(50,75):\n",
    "        continue\n",
    "    if number == 80:\n",
    "        break\n",
    "    if number % 2 == 0:\n",
    "        even_numbers.append(number)\n",
    "    else:\n",
    "        odd_numbers.append(number)\n",
    "print(even_numbers)\n",
    "print(odd_numbers)"
   ]
  }
 ],
 "metadata": {
  "kernelspec": {
   "display_name": "Python 3.10.5 64-bit",
   "language": "python",
   "name": "python3"
  },
  "language_info": {
   "codemirror_mode": {
    "name": "ipython",
    "version": 3
   },
   "file_extension": ".py",
   "mimetype": "text/x-python",
   "name": "python",
   "nbconvert_exporter": "python",
   "pygments_lexer": "ipython3",
   "version": "3.10.5"
  },
  "orig_nbformat": 4,
  "vscode": {
   "interpreter": {
    "hash": "b0d9c7fd3642b660ffedf3a77d11c31e11ccbd2a913cb9ccb12c86252838bb24"
   }
  }
 },
 "nbformat": 4,
 "nbformat_minor": 2
}
