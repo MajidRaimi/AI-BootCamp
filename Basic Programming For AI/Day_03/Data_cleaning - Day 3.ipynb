{
 "cells": [
  {
   "cell_type": "code",
   "execution_count": 11,
   "metadata": {
    "collapsed": true,
    "pycharm": {
     "name": "#%%\n"
    }
   },
   "outputs": [],
   "source": [
    "import pandas as pd"
   ]
  },
  {
   "cell_type": "code",
   "execution_count": 12,
   "outputs": [],
   "source": [
    "df = pd.read_csv('data.csv')"
   ],
   "metadata": {
    "collapsed": false,
    "pycharm": {
     "name": "#%%\n"
    }
   }
  },
  {
   "cell_type": "code",
   "execution_count": 13,
   "outputs": [
    {
     "data": {
      "text/plain": "      fname   lname age_gender section height(cm) weight(kg)  age  spend_A  \\\n0  Mohammed     Ali       36_M       A         xx        -60   36    100.0   \n1      Reem    Naif       35_F       C      170.3       75.5   35      NaN   \n2    Khalid    Omar       34_M       C      155.1       56.8   34   1000.0   \n3    Hassan   Salem       36_M       C      154.2       60.6   36    100.0   \n4      Noor     Ali       38_F       A      162.1       58.7   38    600.0   \n5    Shahad  Khalid       37_F       B      175.4       85.6   37   1500.0   \n6   Ibrahim   Ahmed       38_M       B        NaN         xx   38      NaN   \n7     Osama  Hassan       35_M       B      165.1          ?   35    500.0   \n8     Ahmed   Naser       40_M       A          0       55.6   40    300.0   \n9      Huda   Saleh       39_M       B      160.8       57.5   39    200.0   \n\n   spend_B spend_C  \n0   400.50     NaN  \n1   500.02     500  \n2   100.90      xx  \n3   200.70     300  \n4   200.60     200  \n5   200.80     300  \n6  1000.80     NaN  \n7  -100.00     200  \n8   300.70     NaN  \n9      NaN     300  ",
      "text/html": "<div>\n<style scoped>\n    .dataframe tbody tr th:only-of-type {\n        vertical-align: middle;\n    }\n\n    .dataframe tbody tr th {\n        vertical-align: top;\n    }\n\n    .dataframe thead th {\n        text-align: right;\n    }\n</style>\n<table border=\"1\" class=\"dataframe\">\n  <thead>\n    <tr style=\"text-align: right;\">\n      <th></th>\n      <th>fname</th>\n      <th>lname</th>\n      <th>age_gender</th>\n      <th>section</th>\n      <th>height(cm)</th>\n      <th>weight(kg)</th>\n      <th>age</th>\n      <th>spend_A</th>\n      <th>spend_B</th>\n      <th>spend_C</th>\n    </tr>\n  </thead>\n  <tbody>\n    <tr>\n      <th>0</th>\n      <td>Mohammed</td>\n      <td>Ali</td>\n      <td>36_M</td>\n      <td>A</td>\n      <td>xx</td>\n      <td>-60</td>\n      <td>36</td>\n      <td>100.0</td>\n      <td>400.50</td>\n      <td>NaN</td>\n    </tr>\n    <tr>\n      <th>1</th>\n      <td>Reem</td>\n      <td>Naif</td>\n      <td>35_F</td>\n      <td>C</td>\n      <td>170.3</td>\n      <td>75.5</td>\n      <td>35</td>\n      <td>NaN</td>\n      <td>500.02</td>\n      <td>500</td>\n    </tr>\n    <tr>\n      <th>2</th>\n      <td>Khalid</td>\n      <td>Omar</td>\n      <td>34_M</td>\n      <td>C</td>\n      <td>155.1</td>\n      <td>56.8</td>\n      <td>34</td>\n      <td>1000.0</td>\n      <td>100.90</td>\n      <td>xx</td>\n    </tr>\n    <tr>\n      <th>3</th>\n      <td>Hassan</td>\n      <td>Salem</td>\n      <td>36_M</td>\n      <td>C</td>\n      <td>154.2</td>\n      <td>60.6</td>\n      <td>36</td>\n      <td>100.0</td>\n      <td>200.70</td>\n      <td>300</td>\n    </tr>\n    <tr>\n      <th>4</th>\n      <td>Noor</td>\n      <td>Ali</td>\n      <td>38_F</td>\n      <td>A</td>\n      <td>162.1</td>\n      <td>58.7</td>\n      <td>38</td>\n      <td>600.0</td>\n      <td>200.60</td>\n      <td>200</td>\n    </tr>\n    <tr>\n      <th>5</th>\n      <td>Shahad</td>\n      <td>Khalid</td>\n      <td>37_F</td>\n      <td>B</td>\n      <td>175.4</td>\n      <td>85.6</td>\n      <td>37</td>\n      <td>1500.0</td>\n      <td>200.80</td>\n      <td>300</td>\n    </tr>\n    <tr>\n      <th>6</th>\n      <td>Ibrahim</td>\n      <td>Ahmed</td>\n      <td>38_M</td>\n      <td>B</td>\n      <td>NaN</td>\n      <td>xx</td>\n      <td>38</td>\n      <td>NaN</td>\n      <td>1000.80</td>\n      <td>NaN</td>\n    </tr>\n    <tr>\n      <th>7</th>\n      <td>Osama</td>\n      <td>Hassan</td>\n      <td>35_M</td>\n      <td>B</td>\n      <td>165.1</td>\n      <td>?</td>\n      <td>35</td>\n      <td>500.0</td>\n      <td>-100.00</td>\n      <td>200</td>\n    </tr>\n    <tr>\n      <th>8</th>\n      <td>Ahmed</td>\n      <td>Naser</td>\n      <td>40_M</td>\n      <td>A</td>\n      <td>0</td>\n      <td>55.6</td>\n      <td>40</td>\n      <td>300.0</td>\n      <td>300.70</td>\n      <td>NaN</td>\n    </tr>\n    <tr>\n      <th>9</th>\n      <td>Huda</td>\n      <td>Saleh</td>\n      <td>39_M</td>\n      <td>B</td>\n      <td>160.8</td>\n      <td>57.5</td>\n      <td>39</td>\n      <td>200.0</td>\n      <td>NaN</td>\n      <td>300</td>\n    </tr>\n  </tbody>\n</table>\n</div>"
     },
     "execution_count": 13,
     "metadata": {},
     "output_type": "execute_result"
    }
   ],
   "source": [
    "df"
   ],
   "metadata": {
    "collapsed": false,
    "pycharm": {
     "name": "#%%\n"
    }
   }
  },
  {
   "cell_type": "markdown",
   "source": [
    "# Exploratory data analysis"
   ],
   "metadata": {
    "collapsed": false,
    "pycharm": {
     "name": "#%% md\n"
    }
   }
  },
  {
   "cell_type": "code",
   "execution_count": 14,
   "outputs": [
    {
     "data": {
      "text/plain": "(10, 10)"
     },
     "execution_count": 14,
     "metadata": {},
     "output_type": "execute_result"
    }
   ],
   "source": [
    "df.shape"
   ],
   "metadata": {
    "collapsed": false,
    "pycharm": {
     "name": "#%%\n"
    }
   }
  },
  {
   "cell_type": "code",
   "execution_count": 15,
   "outputs": [
    {
     "data": {
      "text/plain": "      fname  lname age_gender section height(cm) weight(kg)  age  spend_A  \\\n0  Mohammed    Ali       36_M       A         xx        -60   36    100.0   \n1      Reem   Naif       35_F       C      170.3       75.5   35      NaN   \n2    Khalid   Omar       34_M       C      155.1       56.8   34   1000.0   \n3    Hassan  Salem       36_M       C      154.2       60.6   36    100.0   \n4      Noor    Ali       38_F       A      162.1       58.7   38    600.0   \n\n   spend_B spend_C  \n0   400.50     NaN  \n1   500.02     500  \n2   100.90      xx  \n3   200.70     300  \n4   200.60     200  ",
      "text/html": "<div>\n<style scoped>\n    .dataframe tbody tr th:only-of-type {\n        vertical-align: middle;\n    }\n\n    .dataframe tbody tr th {\n        vertical-align: top;\n    }\n\n    .dataframe thead th {\n        text-align: right;\n    }\n</style>\n<table border=\"1\" class=\"dataframe\">\n  <thead>\n    <tr style=\"text-align: right;\">\n      <th></th>\n      <th>fname</th>\n      <th>lname</th>\n      <th>age_gender</th>\n      <th>section</th>\n      <th>height(cm)</th>\n      <th>weight(kg)</th>\n      <th>age</th>\n      <th>spend_A</th>\n      <th>spend_B</th>\n      <th>spend_C</th>\n    </tr>\n  </thead>\n  <tbody>\n    <tr>\n      <th>0</th>\n      <td>Mohammed</td>\n      <td>Ali</td>\n      <td>36_M</td>\n      <td>A</td>\n      <td>xx</td>\n      <td>-60</td>\n      <td>36</td>\n      <td>100.0</td>\n      <td>400.50</td>\n      <td>NaN</td>\n    </tr>\n    <tr>\n      <th>1</th>\n      <td>Reem</td>\n      <td>Naif</td>\n      <td>35_F</td>\n      <td>C</td>\n      <td>170.3</td>\n      <td>75.5</td>\n      <td>35</td>\n      <td>NaN</td>\n      <td>500.02</td>\n      <td>500</td>\n    </tr>\n    <tr>\n      <th>2</th>\n      <td>Khalid</td>\n      <td>Omar</td>\n      <td>34_M</td>\n      <td>C</td>\n      <td>155.1</td>\n      <td>56.8</td>\n      <td>34</td>\n      <td>1000.0</td>\n      <td>100.90</td>\n      <td>xx</td>\n    </tr>\n    <tr>\n      <th>3</th>\n      <td>Hassan</td>\n      <td>Salem</td>\n      <td>36_M</td>\n      <td>C</td>\n      <td>154.2</td>\n      <td>60.6</td>\n      <td>36</td>\n      <td>100.0</td>\n      <td>200.70</td>\n      <td>300</td>\n    </tr>\n    <tr>\n      <th>4</th>\n      <td>Noor</td>\n      <td>Ali</td>\n      <td>38_F</td>\n      <td>A</td>\n      <td>162.1</td>\n      <td>58.7</td>\n      <td>38</td>\n      <td>600.0</td>\n      <td>200.60</td>\n      <td>200</td>\n    </tr>\n  </tbody>\n</table>\n</div>"
     },
     "execution_count": 15,
     "metadata": {},
     "output_type": "execute_result"
    }
   ],
   "source": [
    "df.head()"
   ],
   "metadata": {
    "collapsed": false,
    "pycharm": {
     "name": "#%%\n"
    }
   }
  },
  {
   "cell_type": "code",
   "execution_count": 16,
   "outputs": [
    {
     "data": {
      "text/plain": "     fname   lname age_gender section height(cm) weight(kg)  age  spend_A  \\\n5   Shahad  Khalid       37_F       B      175.4       85.6   37   1500.0   \n6  Ibrahim   Ahmed       38_M       B        NaN         xx   38      NaN   \n7    Osama  Hassan       35_M       B      165.1          ?   35    500.0   \n8    Ahmed   Naser       40_M       A          0       55.6   40    300.0   \n9     Huda   Saleh       39_M       B      160.8       57.5   39    200.0   \n\n   spend_B spend_C  \n5    200.8     300  \n6   1000.8     NaN  \n7   -100.0     200  \n8    300.7     NaN  \n9      NaN     300  ",
      "text/html": "<div>\n<style scoped>\n    .dataframe tbody tr th:only-of-type {\n        vertical-align: middle;\n    }\n\n    .dataframe tbody tr th {\n        vertical-align: top;\n    }\n\n    .dataframe thead th {\n        text-align: right;\n    }\n</style>\n<table border=\"1\" class=\"dataframe\">\n  <thead>\n    <tr style=\"text-align: right;\">\n      <th></th>\n      <th>fname</th>\n      <th>lname</th>\n      <th>age_gender</th>\n      <th>section</th>\n      <th>height(cm)</th>\n      <th>weight(kg)</th>\n      <th>age</th>\n      <th>spend_A</th>\n      <th>spend_B</th>\n      <th>spend_C</th>\n    </tr>\n  </thead>\n  <tbody>\n    <tr>\n      <th>5</th>\n      <td>Shahad</td>\n      <td>Khalid</td>\n      <td>37_F</td>\n      <td>B</td>\n      <td>175.4</td>\n      <td>85.6</td>\n      <td>37</td>\n      <td>1500.0</td>\n      <td>200.8</td>\n      <td>300</td>\n    </tr>\n    <tr>\n      <th>6</th>\n      <td>Ibrahim</td>\n      <td>Ahmed</td>\n      <td>38_M</td>\n      <td>B</td>\n      <td>NaN</td>\n      <td>xx</td>\n      <td>38</td>\n      <td>NaN</td>\n      <td>1000.8</td>\n      <td>NaN</td>\n    </tr>\n    <tr>\n      <th>7</th>\n      <td>Osama</td>\n      <td>Hassan</td>\n      <td>35_M</td>\n      <td>B</td>\n      <td>165.1</td>\n      <td>?</td>\n      <td>35</td>\n      <td>500.0</td>\n      <td>-100.0</td>\n      <td>200</td>\n    </tr>\n    <tr>\n      <th>8</th>\n      <td>Ahmed</td>\n      <td>Naser</td>\n      <td>40_M</td>\n      <td>A</td>\n      <td>0</td>\n      <td>55.6</td>\n      <td>40</td>\n      <td>300.0</td>\n      <td>300.7</td>\n      <td>NaN</td>\n    </tr>\n    <tr>\n      <th>9</th>\n      <td>Huda</td>\n      <td>Saleh</td>\n      <td>39_M</td>\n      <td>B</td>\n      <td>160.8</td>\n      <td>57.5</td>\n      <td>39</td>\n      <td>200.0</td>\n      <td>NaN</td>\n      <td>300</td>\n    </tr>\n  </tbody>\n</table>\n</div>"
     },
     "execution_count": 16,
     "metadata": {},
     "output_type": "execute_result"
    }
   ],
   "source": [
    "df.tail()"
   ],
   "metadata": {
    "collapsed": false,
    "pycharm": {
     "name": "#%%\n"
    }
   }
  },
  {
   "cell_type": "code",
   "execution_count": 17,
   "outputs": [
    {
     "name": "stdout",
     "output_type": "stream",
     "text": [
      "<class 'pandas.core.frame.DataFrame'>\n",
      "RangeIndex: 10 entries, 0 to 9\n",
      "Data columns (total 10 columns):\n",
      " #   Column      Non-Null Count  Dtype  \n",
      "---  ------      --------------  -----  \n",
      " 0   fname       10 non-null     object \n",
      " 1   lname       10 non-null     object \n",
      " 2   age_gender  10 non-null     object \n",
      " 3   section     10 non-null     object \n",
      " 4   height(cm)  9 non-null      object \n",
      " 5   weight(kg)  10 non-null     object \n",
      " 6   age         10 non-null     int64  \n",
      " 7   spend_A     8 non-null      float64\n",
      " 8   spend_B     9 non-null      float64\n",
      " 9   spend_C     7 non-null      object \n",
      "dtypes: float64(2), int64(1), object(7)\n",
      "memory usage: 928.0+ bytes\n"
     ]
    }
   ],
   "source": [
    "df.info()"
   ],
   "metadata": {
    "collapsed": false,
    "pycharm": {
     "name": "#%%\n"
    }
   }
  },
  {
   "cell_type": "code",
   "execution_count": 18,
   "outputs": [
    {
     "data": {
      "text/plain": "      fname   lname age_gender section height(cm) weight(kg)  age  spend_A  \\\n0  Mohammed     Ali       36_M       A         xx        -60   36    100.0   \n1      Reem    Naif       35_F       C      170.3       75.5   35      NaN   \n2    Khalid    Omar       34_M       C      155.1       56.8   34   1000.0   \n3    Hassan   Salem       36_M       C      154.2       60.6   36    100.0   \n4      Noor     Ali       38_F       A      162.1       58.7   38    600.0   \n5    Shahad  Khalid       37_F       B      175.4       85.6   37   1500.0   \n6   Ibrahim   Ahmed       38_M       B        NaN         xx   38      NaN   \n7     Osama  Hassan       35_M       B      165.1          ?   35    500.0   \n8     Ahmed   Naser       40_M       A          0       55.6   40    300.0   \n9      Huda   Saleh       39_M       B      160.8       57.5   39    200.0   \n\n   spend_B spend_C  \n0   400.50     NaN  \n1   500.02     500  \n2   100.90      xx  \n3   200.70     300  \n4   200.60     200  \n5   200.80     300  \n6  1000.80     NaN  \n7  -100.00     200  \n8   300.70     NaN  \n9      NaN     300  ",
      "text/html": "<div>\n<style scoped>\n    .dataframe tbody tr th:only-of-type {\n        vertical-align: middle;\n    }\n\n    .dataframe tbody tr th {\n        vertical-align: top;\n    }\n\n    .dataframe thead th {\n        text-align: right;\n    }\n</style>\n<table border=\"1\" class=\"dataframe\">\n  <thead>\n    <tr style=\"text-align: right;\">\n      <th></th>\n      <th>fname</th>\n      <th>lname</th>\n      <th>age_gender</th>\n      <th>section</th>\n      <th>height(cm)</th>\n      <th>weight(kg)</th>\n      <th>age</th>\n      <th>spend_A</th>\n      <th>spend_B</th>\n      <th>spend_C</th>\n    </tr>\n  </thead>\n  <tbody>\n    <tr>\n      <th>0</th>\n      <td>Mohammed</td>\n      <td>Ali</td>\n      <td>36_M</td>\n      <td>A</td>\n      <td>xx</td>\n      <td>-60</td>\n      <td>36</td>\n      <td>100.0</td>\n      <td>400.50</td>\n      <td>NaN</td>\n    </tr>\n    <tr>\n      <th>1</th>\n      <td>Reem</td>\n      <td>Naif</td>\n      <td>35_F</td>\n      <td>C</td>\n      <td>170.3</td>\n      <td>75.5</td>\n      <td>35</td>\n      <td>NaN</td>\n      <td>500.02</td>\n      <td>500</td>\n    </tr>\n    <tr>\n      <th>2</th>\n      <td>Khalid</td>\n      <td>Omar</td>\n      <td>34_M</td>\n      <td>C</td>\n      <td>155.1</td>\n      <td>56.8</td>\n      <td>34</td>\n      <td>1000.0</td>\n      <td>100.90</td>\n      <td>xx</td>\n    </tr>\n    <tr>\n      <th>3</th>\n      <td>Hassan</td>\n      <td>Salem</td>\n      <td>36_M</td>\n      <td>C</td>\n      <td>154.2</td>\n      <td>60.6</td>\n      <td>36</td>\n      <td>100.0</td>\n      <td>200.70</td>\n      <td>300</td>\n    </tr>\n    <tr>\n      <th>4</th>\n      <td>Noor</td>\n      <td>Ali</td>\n      <td>38_F</td>\n      <td>A</td>\n      <td>162.1</td>\n      <td>58.7</td>\n      <td>38</td>\n      <td>600.0</td>\n      <td>200.60</td>\n      <td>200</td>\n    </tr>\n    <tr>\n      <th>5</th>\n      <td>Shahad</td>\n      <td>Khalid</td>\n      <td>37_F</td>\n      <td>B</td>\n      <td>175.4</td>\n      <td>85.6</td>\n      <td>37</td>\n      <td>1500.0</td>\n      <td>200.80</td>\n      <td>300</td>\n    </tr>\n    <tr>\n      <th>6</th>\n      <td>Ibrahim</td>\n      <td>Ahmed</td>\n      <td>38_M</td>\n      <td>B</td>\n      <td>NaN</td>\n      <td>xx</td>\n      <td>38</td>\n      <td>NaN</td>\n      <td>1000.80</td>\n      <td>NaN</td>\n    </tr>\n    <tr>\n      <th>7</th>\n      <td>Osama</td>\n      <td>Hassan</td>\n      <td>35_M</td>\n      <td>B</td>\n      <td>165.1</td>\n      <td>?</td>\n      <td>35</td>\n      <td>500.0</td>\n      <td>-100.00</td>\n      <td>200</td>\n    </tr>\n    <tr>\n      <th>8</th>\n      <td>Ahmed</td>\n      <td>Naser</td>\n      <td>40_M</td>\n      <td>A</td>\n      <td>0</td>\n      <td>55.6</td>\n      <td>40</td>\n      <td>300.0</td>\n      <td>300.70</td>\n      <td>NaN</td>\n    </tr>\n    <tr>\n      <th>9</th>\n      <td>Huda</td>\n      <td>Saleh</td>\n      <td>39_M</td>\n      <td>B</td>\n      <td>160.8</td>\n      <td>57.5</td>\n      <td>39</td>\n      <td>200.0</td>\n      <td>NaN</td>\n      <td>300</td>\n    </tr>\n  </tbody>\n</table>\n</div>"
     },
     "execution_count": 18,
     "metadata": {},
     "output_type": "execute_result"
    }
   ],
   "source": [
    "df"
   ],
   "metadata": {
    "collapsed": false,
    "pycharm": {
     "name": "#%%\n"
    }
   }
  },
  {
   "cell_type": "code",
   "execution_count": 19,
   "outputs": [
    {
     "data": {
      "text/plain": "fname          object\nlname          object\nage_gender     object\nsection        object\nheight(cm)     object\nweight(kg)     object\nage             int64\nspend_A       float64\nspend_B       float64\nspend_C        object\ndtype: object"
     },
     "execution_count": 19,
     "metadata": {},
     "output_type": "execute_result"
    }
   ],
   "source": [
    "df.dtypes"
   ],
   "metadata": {
    "collapsed": false,
    "pycharm": {
     "name": "#%%\n"
    }
   }
  },
  {
   "cell_type": "markdown",
   "source": [
    "# Handling invalid values"
   ],
   "metadata": {
    "collapsed": false,
    "pycharm": {
     "name": "#%% md\n"
    }
   }
  },
  {
   "cell_type": "code",
   "execution_count": 20,
   "outputs": [
    {
     "data": {
      "text/plain": "      fname   lname age_gender section height(cm) weight(kg)  age  spend_A  \\\n0  Mohammed     Ali       36_M       A         xx        -60   36    100.0   \n1      Reem    Naif       35_F       C      170.3       75.5   35      NaN   \n2    Khalid    Omar       34_M       C      155.1       56.8   34   1000.0   \n3    Hassan   Salem       36_M       C      154.2       60.6   36    100.0   \n4      Noor     Ali       38_F       A      162.1       58.7   38    600.0   \n5    Shahad  Khalid       37_F       B      175.4       85.6   37   1500.0   \n6   Ibrahim   Ahmed       38_M       B        NaN         xx   38      NaN   \n7     Osama  Hassan       35_M       B      165.1          ?   35    500.0   \n8     Ahmed   Naser       40_M       A          0       55.6   40    300.0   \n9      Huda   Saleh       39_M       B      160.8       57.5   39    200.0   \n\n   spend_B spend_C  \n0   400.50     NaN  \n1   500.02     500  \n2   100.90      xx  \n3   200.70     300  \n4   200.60     200  \n5   200.80     300  \n6  1000.80     NaN  \n7  -100.00     200  \n8   300.70     NaN  \n9      NaN     300  ",
      "text/html": "<div>\n<style scoped>\n    .dataframe tbody tr th:only-of-type {\n        vertical-align: middle;\n    }\n\n    .dataframe tbody tr th {\n        vertical-align: top;\n    }\n\n    .dataframe thead th {\n        text-align: right;\n    }\n</style>\n<table border=\"1\" class=\"dataframe\">\n  <thead>\n    <tr style=\"text-align: right;\">\n      <th></th>\n      <th>fname</th>\n      <th>lname</th>\n      <th>age_gender</th>\n      <th>section</th>\n      <th>height(cm)</th>\n      <th>weight(kg)</th>\n      <th>age</th>\n      <th>spend_A</th>\n      <th>spend_B</th>\n      <th>spend_C</th>\n    </tr>\n  </thead>\n  <tbody>\n    <tr>\n      <th>0</th>\n      <td>Mohammed</td>\n      <td>Ali</td>\n      <td>36_M</td>\n      <td>A</td>\n      <td>xx</td>\n      <td>-60</td>\n      <td>36</td>\n      <td>100.0</td>\n      <td>400.50</td>\n      <td>NaN</td>\n    </tr>\n    <tr>\n      <th>1</th>\n      <td>Reem</td>\n      <td>Naif</td>\n      <td>35_F</td>\n      <td>C</td>\n      <td>170.3</td>\n      <td>75.5</td>\n      <td>35</td>\n      <td>NaN</td>\n      <td>500.02</td>\n      <td>500</td>\n    </tr>\n    <tr>\n      <th>2</th>\n      <td>Khalid</td>\n      <td>Omar</td>\n      <td>34_M</td>\n      <td>C</td>\n      <td>155.1</td>\n      <td>56.8</td>\n      <td>34</td>\n      <td>1000.0</td>\n      <td>100.90</td>\n      <td>xx</td>\n    </tr>\n    <tr>\n      <th>3</th>\n      <td>Hassan</td>\n      <td>Salem</td>\n      <td>36_M</td>\n      <td>C</td>\n      <td>154.2</td>\n      <td>60.6</td>\n      <td>36</td>\n      <td>100.0</td>\n      <td>200.70</td>\n      <td>300</td>\n    </tr>\n    <tr>\n      <th>4</th>\n      <td>Noor</td>\n      <td>Ali</td>\n      <td>38_F</td>\n      <td>A</td>\n      <td>162.1</td>\n      <td>58.7</td>\n      <td>38</td>\n      <td>600.0</td>\n      <td>200.60</td>\n      <td>200</td>\n    </tr>\n    <tr>\n      <th>5</th>\n      <td>Shahad</td>\n      <td>Khalid</td>\n      <td>37_F</td>\n      <td>B</td>\n      <td>175.4</td>\n      <td>85.6</td>\n      <td>37</td>\n      <td>1500.0</td>\n      <td>200.80</td>\n      <td>300</td>\n    </tr>\n    <tr>\n      <th>6</th>\n      <td>Ibrahim</td>\n      <td>Ahmed</td>\n      <td>38_M</td>\n      <td>B</td>\n      <td>NaN</td>\n      <td>xx</td>\n      <td>38</td>\n      <td>NaN</td>\n      <td>1000.80</td>\n      <td>NaN</td>\n    </tr>\n    <tr>\n      <th>7</th>\n      <td>Osama</td>\n      <td>Hassan</td>\n      <td>35_M</td>\n      <td>B</td>\n      <td>165.1</td>\n      <td>?</td>\n      <td>35</td>\n      <td>500.0</td>\n      <td>-100.00</td>\n      <td>200</td>\n    </tr>\n    <tr>\n      <th>8</th>\n      <td>Ahmed</td>\n      <td>Naser</td>\n      <td>40_M</td>\n      <td>A</td>\n      <td>0</td>\n      <td>55.6</td>\n      <td>40</td>\n      <td>300.0</td>\n      <td>300.70</td>\n      <td>NaN</td>\n    </tr>\n    <tr>\n      <th>9</th>\n      <td>Huda</td>\n      <td>Saleh</td>\n      <td>39_M</td>\n      <td>B</td>\n      <td>160.8</td>\n      <td>57.5</td>\n      <td>39</td>\n      <td>200.0</td>\n      <td>NaN</td>\n      <td>300</td>\n    </tr>\n  </tbody>\n</table>\n</div>"
     },
     "execution_count": 20,
     "metadata": {},
     "output_type": "execute_result"
    }
   ],
   "source": [
    "df"
   ],
   "metadata": {
    "collapsed": false,
    "pycharm": {
     "name": "#%%\n"
    }
   }
  },
  {
   "cell_type": "code",
   "execution_count": 21,
   "outputs": [],
   "source": [
    "df['height(cm)'] = pd.to_numeric(df['height(cm)'] , errors= 'coerce')"
   ],
   "metadata": {
    "collapsed": false,
    "pycharm": {
     "name": "#%%\n"
    }
   }
  },
  {
   "cell_type": "code",
   "execution_count": 22,
   "outputs": [],
   "source": [
    "df['weight(kg)'] = pd.to_numeric(df['weight(kg)'] , errors= 'coerce')"
   ],
   "metadata": {
    "collapsed": false,
    "pycharm": {
     "name": "#%%\n"
    }
   }
  },
  {
   "cell_type": "code",
   "execution_count": 23,
   "outputs": [],
   "source": [
    "df['spend_C'] = pd.to_numeric(df['spend_C'] , errors= 'coerce')"
   ],
   "metadata": {
    "collapsed": false,
    "pycharm": {
     "name": "#%%\n"
    }
   }
  },
  {
   "cell_type": "code",
   "execution_count": 24,
   "outputs": [
    {
     "data": {
      "text/plain": "fname          object\nlname          object\nage_gender     object\nsection        object\nheight(cm)    float64\nweight(kg)    float64\nage             int64\nspend_A       float64\nspend_B       float64\nspend_C       float64\ndtype: object"
     },
     "execution_count": 24,
     "metadata": {},
     "output_type": "execute_result"
    }
   ],
   "source": [
    "df.dtypes"
   ],
   "metadata": {
    "collapsed": false,
    "pycharm": {
     "name": "#%%\n"
    }
   }
  },
  {
   "cell_type": "code",
   "execution_count": 25,
   "outputs": [
    {
     "data": {
      "text/plain": "      fname   lname age_gender section  height(cm)  weight(kg)  age  spend_A  \\\n0  Mohammed     Ali       36_M       A         NaN       -60.0   36    100.0   \n1      Reem    Naif       35_F       C       170.3        75.5   35      NaN   \n2    Khalid    Omar       34_M       C       155.1        56.8   34   1000.0   \n3    Hassan   Salem       36_M       C       154.2        60.6   36    100.0   \n4      Noor     Ali       38_F       A       162.1        58.7   38    600.0   \n5    Shahad  Khalid       37_F       B       175.4        85.6   37   1500.0   \n6   Ibrahim   Ahmed       38_M       B         NaN         NaN   38      NaN   \n7     Osama  Hassan       35_M       B       165.1         NaN   35    500.0   \n8     Ahmed   Naser       40_M       A         0.0        55.6   40    300.0   \n9      Huda   Saleh       39_M       B       160.8        57.5   39    200.0   \n\n   spend_B  spend_C  \n0   400.50      NaN  \n1   500.02    500.0  \n2   100.90      NaN  \n3   200.70    300.0  \n4   200.60    200.0  \n5   200.80    300.0  \n6  1000.80      NaN  \n7  -100.00    200.0  \n8   300.70      NaN  \n9      NaN    300.0  ",
      "text/html": "<div>\n<style scoped>\n    .dataframe tbody tr th:only-of-type {\n        vertical-align: middle;\n    }\n\n    .dataframe tbody tr th {\n        vertical-align: top;\n    }\n\n    .dataframe thead th {\n        text-align: right;\n    }\n</style>\n<table border=\"1\" class=\"dataframe\">\n  <thead>\n    <tr style=\"text-align: right;\">\n      <th></th>\n      <th>fname</th>\n      <th>lname</th>\n      <th>age_gender</th>\n      <th>section</th>\n      <th>height(cm)</th>\n      <th>weight(kg)</th>\n      <th>age</th>\n      <th>spend_A</th>\n      <th>spend_B</th>\n      <th>spend_C</th>\n    </tr>\n  </thead>\n  <tbody>\n    <tr>\n      <th>0</th>\n      <td>Mohammed</td>\n      <td>Ali</td>\n      <td>36_M</td>\n      <td>A</td>\n      <td>NaN</td>\n      <td>-60.0</td>\n      <td>36</td>\n      <td>100.0</td>\n      <td>400.50</td>\n      <td>NaN</td>\n    </tr>\n    <tr>\n      <th>1</th>\n      <td>Reem</td>\n      <td>Naif</td>\n      <td>35_F</td>\n      <td>C</td>\n      <td>170.3</td>\n      <td>75.5</td>\n      <td>35</td>\n      <td>NaN</td>\n      <td>500.02</td>\n      <td>500.0</td>\n    </tr>\n    <tr>\n      <th>2</th>\n      <td>Khalid</td>\n      <td>Omar</td>\n      <td>34_M</td>\n      <td>C</td>\n      <td>155.1</td>\n      <td>56.8</td>\n      <td>34</td>\n      <td>1000.0</td>\n      <td>100.90</td>\n      <td>NaN</td>\n    </tr>\n    <tr>\n      <th>3</th>\n      <td>Hassan</td>\n      <td>Salem</td>\n      <td>36_M</td>\n      <td>C</td>\n      <td>154.2</td>\n      <td>60.6</td>\n      <td>36</td>\n      <td>100.0</td>\n      <td>200.70</td>\n      <td>300.0</td>\n    </tr>\n    <tr>\n      <th>4</th>\n      <td>Noor</td>\n      <td>Ali</td>\n      <td>38_F</td>\n      <td>A</td>\n      <td>162.1</td>\n      <td>58.7</td>\n      <td>38</td>\n      <td>600.0</td>\n      <td>200.60</td>\n      <td>200.0</td>\n    </tr>\n    <tr>\n      <th>5</th>\n      <td>Shahad</td>\n      <td>Khalid</td>\n      <td>37_F</td>\n      <td>B</td>\n      <td>175.4</td>\n      <td>85.6</td>\n      <td>37</td>\n      <td>1500.0</td>\n      <td>200.80</td>\n      <td>300.0</td>\n    </tr>\n    <tr>\n      <th>6</th>\n      <td>Ibrahim</td>\n      <td>Ahmed</td>\n      <td>38_M</td>\n      <td>B</td>\n      <td>NaN</td>\n      <td>NaN</td>\n      <td>38</td>\n      <td>NaN</td>\n      <td>1000.80</td>\n      <td>NaN</td>\n    </tr>\n    <tr>\n      <th>7</th>\n      <td>Osama</td>\n      <td>Hassan</td>\n      <td>35_M</td>\n      <td>B</td>\n      <td>165.1</td>\n      <td>NaN</td>\n      <td>35</td>\n      <td>500.0</td>\n      <td>-100.00</td>\n      <td>200.0</td>\n    </tr>\n    <tr>\n      <th>8</th>\n      <td>Ahmed</td>\n      <td>Naser</td>\n      <td>40_M</td>\n      <td>A</td>\n      <td>0.0</td>\n      <td>55.6</td>\n      <td>40</td>\n      <td>300.0</td>\n      <td>300.70</td>\n      <td>NaN</td>\n    </tr>\n    <tr>\n      <th>9</th>\n      <td>Huda</td>\n      <td>Saleh</td>\n      <td>39_M</td>\n      <td>B</td>\n      <td>160.8</td>\n      <td>57.5</td>\n      <td>39</td>\n      <td>200.0</td>\n      <td>NaN</td>\n      <td>300.0</td>\n    </tr>\n  </tbody>\n</table>\n</div>"
     },
     "execution_count": 25,
     "metadata": {},
     "output_type": "execute_result"
    }
   ],
   "source": [
    "df"
   ],
   "metadata": {
    "collapsed": false,
    "pycharm": {
     "name": "#%%\n"
    }
   }
  },
  {
   "cell_type": "markdown",
   "source": [
    " <h1> Split columns </h1>"
   ],
   "metadata": {
    "collapsed": false,
    "pycharm": {
     "name": "#%% md\n"
    }
   }
  },
  {
   "cell_type": "code",
   "execution_count": 26,
   "outputs": [],
   "source": [
    "df[['age' , 'gender']] = df.age_gender.str.split('_' , expand =True)"
   ],
   "metadata": {
    "collapsed": false,
    "pycharm": {
     "name": "#%%\n"
    }
   }
  },
  {
   "cell_type": "code",
   "execution_count": 27,
   "outputs": [
    {
     "data": {
      "text/plain": "      fname   lname age_gender section  height(cm)  weight(kg) age  spend_A  \\\n0  Mohammed     Ali       36_M       A         NaN       -60.0  36    100.0   \n1      Reem    Naif       35_F       C       170.3        75.5  35      NaN   \n2    Khalid    Omar       34_M       C       155.1        56.8  34   1000.0   \n3    Hassan   Salem       36_M       C       154.2        60.6  36    100.0   \n4      Noor     Ali       38_F       A       162.1        58.7  38    600.0   \n5    Shahad  Khalid       37_F       B       175.4        85.6  37   1500.0   \n6   Ibrahim   Ahmed       38_M       B         NaN         NaN  38      NaN   \n7     Osama  Hassan       35_M       B       165.1         NaN  35    500.0   \n8     Ahmed   Naser       40_M       A         0.0        55.6  40    300.0   \n9      Huda   Saleh       39_M       B       160.8        57.5  39    200.0   \n\n   spend_B  spend_C gender  \n0   400.50      NaN      M  \n1   500.02    500.0      F  \n2   100.90      NaN      M  \n3   200.70    300.0      M  \n4   200.60    200.0      F  \n5   200.80    300.0      F  \n6  1000.80      NaN      M  \n7  -100.00    200.0      M  \n8   300.70      NaN      M  \n9      NaN    300.0      M  ",
      "text/html": "<div>\n<style scoped>\n    .dataframe tbody tr th:only-of-type {\n        vertical-align: middle;\n    }\n\n    .dataframe tbody tr th {\n        vertical-align: top;\n    }\n\n    .dataframe thead th {\n        text-align: right;\n    }\n</style>\n<table border=\"1\" class=\"dataframe\">\n  <thead>\n    <tr style=\"text-align: right;\">\n      <th></th>\n      <th>fname</th>\n      <th>lname</th>\n      <th>age_gender</th>\n      <th>section</th>\n      <th>height(cm)</th>\n      <th>weight(kg)</th>\n      <th>age</th>\n      <th>spend_A</th>\n      <th>spend_B</th>\n      <th>spend_C</th>\n      <th>gender</th>\n    </tr>\n  </thead>\n  <tbody>\n    <tr>\n      <th>0</th>\n      <td>Mohammed</td>\n      <td>Ali</td>\n      <td>36_M</td>\n      <td>A</td>\n      <td>NaN</td>\n      <td>-60.0</td>\n      <td>36</td>\n      <td>100.0</td>\n      <td>400.50</td>\n      <td>NaN</td>\n      <td>M</td>\n    </tr>\n    <tr>\n      <th>1</th>\n      <td>Reem</td>\n      <td>Naif</td>\n      <td>35_F</td>\n      <td>C</td>\n      <td>170.3</td>\n      <td>75.5</td>\n      <td>35</td>\n      <td>NaN</td>\n      <td>500.02</td>\n      <td>500.0</td>\n      <td>F</td>\n    </tr>\n    <tr>\n      <th>2</th>\n      <td>Khalid</td>\n      <td>Omar</td>\n      <td>34_M</td>\n      <td>C</td>\n      <td>155.1</td>\n      <td>56.8</td>\n      <td>34</td>\n      <td>1000.0</td>\n      <td>100.90</td>\n      <td>NaN</td>\n      <td>M</td>\n    </tr>\n    <tr>\n      <th>3</th>\n      <td>Hassan</td>\n      <td>Salem</td>\n      <td>36_M</td>\n      <td>C</td>\n      <td>154.2</td>\n      <td>60.6</td>\n      <td>36</td>\n      <td>100.0</td>\n      <td>200.70</td>\n      <td>300.0</td>\n      <td>M</td>\n    </tr>\n    <tr>\n      <th>4</th>\n      <td>Noor</td>\n      <td>Ali</td>\n      <td>38_F</td>\n      <td>A</td>\n      <td>162.1</td>\n      <td>58.7</td>\n      <td>38</td>\n      <td>600.0</td>\n      <td>200.60</td>\n      <td>200.0</td>\n      <td>F</td>\n    </tr>\n    <tr>\n      <th>5</th>\n      <td>Shahad</td>\n      <td>Khalid</td>\n      <td>37_F</td>\n      <td>B</td>\n      <td>175.4</td>\n      <td>85.6</td>\n      <td>37</td>\n      <td>1500.0</td>\n      <td>200.80</td>\n      <td>300.0</td>\n      <td>F</td>\n    </tr>\n    <tr>\n      <th>6</th>\n      <td>Ibrahim</td>\n      <td>Ahmed</td>\n      <td>38_M</td>\n      <td>B</td>\n      <td>NaN</td>\n      <td>NaN</td>\n      <td>38</td>\n      <td>NaN</td>\n      <td>1000.80</td>\n      <td>NaN</td>\n      <td>M</td>\n    </tr>\n    <tr>\n      <th>7</th>\n      <td>Osama</td>\n      <td>Hassan</td>\n      <td>35_M</td>\n      <td>B</td>\n      <td>165.1</td>\n      <td>NaN</td>\n      <td>35</td>\n      <td>500.0</td>\n      <td>-100.00</td>\n      <td>200.0</td>\n      <td>M</td>\n    </tr>\n    <tr>\n      <th>8</th>\n      <td>Ahmed</td>\n      <td>Naser</td>\n      <td>40_M</td>\n      <td>A</td>\n      <td>0.0</td>\n      <td>55.6</td>\n      <td>40</td>\n      <td>300.0</td>\n      <td>300.70</td>\n      <td>NaN</td>\n      <td>M</td>\n    </tr>\n    <tr>\n      <th>9</th>\n      <td>Huda</td>\n      <td>Saleh</td>\n      <td>39_M</td>\n      <td>B</td>\n      <td>160.8</td>\n      <td>57.5</td>\n      <td>39</td>\n      <td>200.0</td>\n      <td>NaN</td>\n      <td>300.0</td>\n      <td>M</td>\n    </tr>\n  </tbody>\n</table>\n</div>"
     },
     "execution_count": 27,
     "metadata": {},
     "output_type": "execute_result"
    }
   ],
   "source": [
    "df"
   ],
   "metadata": {
    "collapsed": false,
    "pycharm": {
     "name": "#%%\n"
    }
   }
  },
  {
   "cell_type": "code",
   "execution_count": 28,
   "outputs": [],
   "source": [
    "df.drop(['age_gender'] , axis = 1 , inplace= True)"
   ],
   "metadata": {
    "collapsed": false,
    "pycharm": {
     "name": "#%%\n"
    }
   }
  },
  {
   "cell_type": "code",
   "execution_count": 29,
   "outputs": [
    {
     "data": {
      "text/plain": "      fname   lname section  height(cm)  weight(kg) age  spend_A  spend_B  \\\n0  Mohammed     Ali       A         NaN       -60.0  36    100.0   400.50   \n1      Reem    Naif       C       170.3        75.5  35      NaN   500.02   \n2    Khalid    Omar       C       155.1        56.8  34   1000.0   100.90   \n3    Hassan   Salem       C       154.2        60.6  36    100.0   200.70   \n4      Noor     Ali       A       162.1        58.7  38    600.0   200.60   \n5    Shahad  Khalid       B       175.4        85.6  37   1500.0   200.80   \n6   Ibrahim   Ahmed       B         NaN         NaN  38      NaN  1000.80   \n7     Osama  Hassan       B       165.1         NaN  35    500.0  -100.00   \n8     Ahmed   Naser       A         0.0        55.6  40    300.0   300.70   \n9      Huda   Saleh       B       160.8        57.5  39    200.0      NaN   \n\n   spend_C gender  \n0      NaN      M  \n1    500.0      F  \n2      NaN      M  \n3    300.0      M  \n4    200.0      F  \n5    300.0      F  \n6      NaN      M  \n7    200.0      M  \n8      NaN      M  \n9    300.0      M  ",
      "text/html": "<div>\n<style scoped>\n    .dataframe tbody tr th:only-of-type {\n        vertical-align: middle;\n    }\n\n    .dataframe tbody tr th {\n        vertical-align: top;\n    }\n\n    .dataframe thead th {\n        text-align: right;\n    }\n</style>\n<table border=\"1\" class=\"dataframe\">\n  <thead>\n    <tr style=\"text-align: right;\">\n      <th></th>\n      <th>fname</th>\n      <th>lname</th>\n      <th>section</th>\n      <th>height(cm)</th>\n      <th>weight(kg)</th>\n      <th>age</th>\n      <th>spend_A</th>\n      <th>spend_B</th>\n      <th>spend_C</th>\n      <th>gender</th>\n    </tr>\n  </thead>\n  <tbody>\n    <tr>\n      <th>0</th>\n      <td>Mohammed</td>\n      <td>Ali</td>\n      <td>A</td>\n      <td>NaN</td>\n      <td>-60.0</td>\n      <td>36</td>\n      <td>100.0</td>\n      <td>400.50</td>\n      <td>NaN</td>\n      <td>M</td>\n    </tr>\n    <tr>\n      <th>1</th>\n      <td>Reem</td>\n      <td>Naif</td>\n      <td>C</td>\n      <td>170.3</td>\n      <td>75.5</td>\n      <td>35</td>\n      <td>NaN</td>\n      <td>500.02</td>\n      <td>500.0</td>\n      <td>F</td>\n    </tr>\n    <tr>\n      <th>2</th>\n      <td>Khalid</td>\n      <td>Omar</td>\n      <td>C</td>\n      <td>155.1</td>\n      <td>56.8</td>\n      <td>34</td>\n      <td>1000.0</td>\n      <td>100.90</td>\n      <td>NaN</td>\n      <td>M</td>\n    </tr>\n    <tr>\n      <th>3</th>\n      <td>Hassan</td>\n      <td>Salem</td>\n      <td>C</td>\n      <td>154.2</td>\n      <td>60.6</td>\n      <td>36</td>\n      <td>100.0</td>\n      <td>200.70</td>\n      <td>300.0</td>\n      <td>M</td>\n    </tr>\n    <tr>\n      <th>4</th>\n      <td>Noor</td>\n      <td>Ali</td>\n      <td>A</td>\n      <td>162.1</td>\n      <td>58.7</td>\n      <td>38</td>\n      <td>600.0</td>\n      <td>200.60</td>\n      <td>200.0</td>\n      <td>F</td>\n    </tr>\n    <tr>\n      <th>5</th>\n      <td>Shahad</td>\n      <td>Khalid</td>\n      <td>B</td>\n      <td>175.4</td>\n      <td>85.6</td>\n      <td>37</td>\n      <td>1500.0</td>\n      <td>200.80</td>\n      <td>300.0</td>\n      <td>F</td>\n    </tr>\n    <tr>\n      <th>6</th>\n      <td>Ibrahim</td>\n      <td>Ahmed</td>\n      <td>B</td>\n      <td>NaN</td>\n      <td>NaN</td>\n      <td>38</td>\n      <td>NaN</td>\n      <td>1000.80</td>\n      <td>NaN</td>\n      <td>M</td>\n    </tr>\n    <tr>\n      <th>7</th>\n      <td>Osama</td>\n      <td>Hassan</td>\n      <td>B</td>\n      <td>165.1</td>\n      <td>NaN</td>\n      <td>35</td>\n      <td>500.0</td>\n      <td>-100.00</td>\n      <td>200.0</td>\n      <td>M</td>\n    </tr>\n    <tr>\n      <th>8</th>\n      <td>Ahmed</td>\n      <td>Naser</td>\n      <td>A</td>\n      <td>0.0</td>\n      <td>55.6</td>\n      <td>40</td>\n      <td>300.0</td>\n      <td>300.70</td>\n      <td>NaN</td>\n      <td>M</td>\n    </tr>\n    <tr>\n      <th>9</th>\n      <td>Huda</td>\n      <td>Saleh</td>\n      <td>B</td>\n      <td>160.8</td>\n      <td>57.5</td>\n      <td>39</td>\n      <td>200.0</td>\n      <td>NaN</td>\n      <td>300.0</td>\n      <td>M</td>\n    </tr>\n  </tbody>\n</table>\n</div>"
     },
     "execution_count": 29,
     "metadata": {},
     "output_type": "execute_result"
    }
   ],
   "source": [
    "df"
   ],
   "metadata": {
    "collapsed": false,
    "pycharm": {
     "name": "#%%\n"
    }
   }
  },
  {
   "cell_type": "markdown",
   "source": [
    "# Reordering"
   ],
   "metadata": {
    "collapsed": false,
    "pycharm": {
     "name": "#%% md\n"
    }
   }
  },
  {
   "cell_type": "code",
   "execution_count": 30,
   "outputs": [],
   "source": [
    "df = df[['fname', 'lname','age','gender','height(cm)','weight(kg)','spend_A','spend_B','spend_C']]"
   ],
   "metadata": {
    "collapsed": false,
    "pycharm": {
     "name": "#%%\n"
    }
   }
  },
  {
   "cell_type": "code",
   "execution_count": 31,
   "outputs": [
    {
     "data": {
      "text/plain": "      fname   lname age gender  height(cm)  weight(kg)  spend_A  spend_B  \\\n0  Mohammed     Ali  36      M         NaN       -60.0    100.0   400.50   \n1      Reem    Naif  35      F       170.3        75.5      NaN   500.02   \n2    Khalid    Omar  34      M       155.1        56.8   1000.0   100.90   \n3    Hassan   Salem  36      M       154.2        60.6    100.0   200.70   \n4      Noor     Ali  38      F       162.1        58.7    600.0   200.60   \n5    Shahad  Khalid  37      F       175.4        85.6   1500.0   200.80   \n6   Ibrahim   Ahmed  38      M         NaN         NaN      NaN  1000.80   \n7     Osama  Hassan  35      M       165.1         NaN    500.0  -100.00   \n8     Ahmed   Naser  40      M         0.0        55.6    300.0   300.70   \n9      Huda   Saleh  39      M       160.8        57.5    200.0      NaN   \n\n   spend_C  \n0      NaN  \n1    500.0  \n2      NaN  \n3    300.0  \n4    200.0  \n5    300.0  \n6      NaN  \n7    200.0  \n8      NaN  \n9    300.0  ",
      "text/html": "<div>\n<style scoped>\n    .dataframe tbody tr th:only-of-type {\n        vertical-align: middle;\n    }\n\n    .dataframe tbody tr th {\n        vertical-align: top;\n    }\n\n    .dataframe thead th {\n        text-align: right;\n    }\n</style>\n<table border=\"1\" class=\"dataframe\">\n  <thead>\n    <tr style=\"text-align: right;\">\n      <th></th>\n      <th>fname</th>\n      <th>lname</th>\n      <th>age</th>\n      <th>gender</th>\n      <th>height(cm)</th>\n      <th>weight(kg)</th>\n      <th>spend_A</th>\n      <th>spend_B</th>\n      <th>spend_C</th>\n    </tr>\n  </thead>\n  <tbody>\n    <tr>\n      <th>0</th>\n      <td>Mohammed</td>\n      <td>Ali</td>\n      <td>36</td>\n      <td>M</td>\n      <td>NaN</td>\n      <td>-60.0</td>\n      <td>100.0</td>\n      <td>400.50</td>\n      <td>NaN</td>\n    </tr>\n    <tr>\n      <th>1</th>\n      <td>Reem</td>\n      <td>Naif</td>\n      <td>35</td>\n      <td>F</td>\n      <td>170.3</td>\n      <td>75.5</td>\n      <td>NaN</td>\n      <td>500.02</td>\n      <td>500.0</td>\n    </tr>\n    <tr>\n      <th>2</th>\n      <td>Khalid</td>\n      <td>Omar</td>\n      <td>34</td>\n      <td>M</td>\n      <td>155.1</td>\n      <td>56.8</td>\n      <td>1000.0</td>\n      <td>100.90</td>\n      <td>NaN</td>\n    </tr>\n    <tr>\n      <th>3</th>\n      <td>Hassan</td>\n      <td>Salem</td>\n      <td>36</td>\n      <td>M</td>\n      <td>154.2</td>\n      <td>60.6</td>\n      <td>100.0</td>\n      <td>200.70</td>\n      <td>300.0</td>\n    </tr>\n    <tr>\n      <th>4</th>\n      <td>Noor</td>\n      <td>Ali</td>\n      <td>38</td>\n      <td>F</td>\n      <td>162.1</td>\n      <td>58.7</td>\n      <td>600.0</td>\n      <td>200.60</td>\n      <td>200.0</td>\n    </tr>\n    <tr>\n      <th>5</th>\n      <td>Shahad</td>\n      <td>Khalid</td>\n      <td>37</td>\n      <td>F</td>\n      <td>175.4</td>\n      <td>85.6</td>\n      <td>1500.0</td>\n      <td>200.80</td>\n      <td>300.0</td>\n    </tr>\n    <tr>\n      <th>6</th>\n      <td>Ibrahim</td>\n      <td>Ahmed</td>\n      <td>38</td>\n      <td>M</td>\n      <td>NaN</td>\n      <td>NaN</td>\n      <td>NaN</td>\n      <td>1000.80</td>\n      <td>NaN</td>\n    </tr>\n    <tr>\n      <th>7</th>\n      <td>Osama</td>\n      <td>Hassan</td>\n      <td>35</td>\n      <td>M</td>\n      <td>165.1</td>\n      <td>NaN</td>\n      <td>500.0</td>\n      <td>-100.00</td>\n      <td>200.0</td>\n    </tr>\n    <tr>\n      <th>8</th>\n      <td>Ahmed</td>\n      <td>Naser</td>\n      <td>40</td>\n      <td>M</td>\n      <td>0.0</td>\n      <td>55.6</td>\n      <td>300.0</td>\n      <td>300.70</td>\n      <td>NaN</td>\n    </tr>\n    <tr>\n      <th>9</th>\n      <td>Huda</td>\n      <td>Saleh</td>\n      <td>39</td>\n      <td>M</td>\n      <td>160.8</td>\n      <td>57.5</td>\n      <td>200.0</td>\n      <td>NaN</td>\n      <td>300.0</td>\n    </tr>\n  </tbody>\n</table>\n</div>"
     },
     "execution_count": 31,
     "metadata": {},
     "output_type": "execute_result"
    }
   ],
   "source": [
    "df"
   ],
   "metadata": {
    "collapsed": false,
    "pycharm": {
     "name": "#%%\n"
    }
   }
  },
  {
   "cell_type": "markdown",
   "source": [
    "#  Dealing with negative numerical values"
   ],
   "metadata": {
    "collapsed": false,
    "pycharm": {
     "name": "#%% md\n"
    }
   }
  },
  {
   "cell_type": "code",
   "execution_count": 32,
   "outputs": [],
   "source": [
    "pd.set_option('mode.chained_assignment' , None)"
   ],
   "metadata": {
    "collapsed": false,
    "pycharm": {
     "name": "#%%\n"
    }
   }
  },
  {
   "cell_type": "code",
   "execution_count": 33,
   "outputs": [],
   "source": [
    "df['weight(kg)'].replace(-60 , 60 , inplace =True )"
   ],
   "metadata": {
    "collapsed": false,
    "pycharm": {
     "name": "#%%\n"
    }
   }
  },
  {
   "cell_type": "markdown",
   "source": [
    "df"
   ],
   "metadata": {
    "collapsed": false,
    "pycharm": {
     "name": "#%% md\n"
    }
   }
  },
  {
   "cell_type": "code",
   "execution_count": 34,
   "outputs": [],
   "source": [
    "df['spend_B'].replace(-100,100,inplace = True)"
   ],
   "metadata": {
    "collapsed": false,
    "pycharm": {
     "name": "#%%\n"
    }
   }
  },
  {
   "cell_type": "code",
   "execution_count": 35,
   "outputs": [
    {
     "data": {
      "text/plain": "      fname   lname age gender  height(cm)  weight(kg)  spend_A  spend_B  \\\n0  Mohammed     Ali  36      M         NaN        60.0    100.0   400.50   \n1      Reem    Naif  35      F       170.3        75.5      NaN   500.02   \n2    Khalid    Omar  34      M       155.1        56.8   1000.0   100.90   \n3    Hassan   Salem  36      M       154.2        60.6    100.0   200.70   \n4      Noor     Ali  38      F       162.1        58.7    600.0   200.60   \n5    Shahad  Khalid  37      F       175.4        85.6   1500.0   200.80   \n6   Ibrahim   Ahmed  38      M         NaN         NaN      NaN  1000.80   \n7     Osama  Hassan  35      M       165.1         NaN    500.0   100.00   \n8     Ahmed   Naser  40      M         0.0        55.6    300.0   300.70   \n9      Huda   Saleh  39      M       160.8        57.5    200.0      NaN   \n\n   spend_C  \n0      NaN  \n1    500.0  \n2      NaN  \n3    300.0  \n4    200.0  \n5    300.0  \n6      NaN  \n7    200.0  \n8      NaN  \n9    300.0  ",
      "text/html": "<div>\n<style scoped>\n    .dataframe tbody tr th:only-of-type {\n        vertical-align: middle;\n    }\n\n    .dataframe tbody tr th {\n        vertical-align: top;\n    }\n\n    .dataframe thead th {\n        text-align: right;\n    }\n</style>\n<table border=\"1\" class=\"dataframe\">\n  <thead>\n    <tr style=\"text-align: right;\">\n      <th></th>\n      <th>fname</th>\n      <th>lname</th>\n      <th>age</th>\n      <th>gender</th>\n      <th>height(cm)</th>\n      <th>weight(kg)</th>\n      <th>spend_A</th>\n      <th>spend_B</th>\n      <th>spend_C</th>\n    </tr>\n  </thead>\n  <tbody>\n    <tr>\n      <th>0</th>\n      <td>Mohammed</td>\n      <td>Ali</td>\n      <td>36</td>\n      <td>M</td>\n      <td>NaN</td>\n      <td>60.0</td>\n      <td>100.0</td>\n      <td>400.50</td>\n      <td>NaN</td>\n    </tr>\n    <tr>\n      <th>1</th>\n      <td>Reem</td>\n      <td>Naif</td>\n      <td>35</td>\n      <td>F</td>\n      <td>170.3</td>\n      <td>75.5</td>\n      <td>NaN</td>\n      <td>500.02</td>\n      <td>500.0</td>\n    </tr>\n    <tr>\n      <th>2</th>\n      <td>Khalid</td>\n      <td>Omar</td>\n      <td>34</td>\n      <td>M</td>\n      <td>155.1</td>\n      <td>56.8</td>\n      <td>1000.0</td>\n      <td>100.90</td>\n      <td>NaN</td>\n    </tr>\n    <tr>\n      <th>3</th>\n      <td>Hassan</td>\n      <td>Salem</td>\n      <td>36</td>\n      <td>M</td>\n      <td>154.2</td>\n      <td>60.6</td>\n      <td>100.0</td>\n      <td>200.70</td>\n      <td>300.0</td>\n    </tr>\n    <tr>\n      <th>4</th>\n      <td>Noor</td>\n      <td>Ali</td>\n      <td>38</td>\n      <td>F</td>\n      <td>162.1</td>\n      <td>58.7</td>\n      <td>600.0</td>\n      <td>200.60</td>\n      <td>200.0</td>\n    </tr>\n    <tr>\n      <th>5</th>\n      <td>Shahad</td>\n      <td>Khalid</td>\n      <td>37</td>\n      <td>F</td>\n      <td>175.4</td>\n      <td>85.6</td>\n      <td>1500.0</td>\n      <td>200.80</td>\n      <td>300.0</td>\n    </tr>\n    <tr>\n      <th>6</th>\n      <td>Ibrahim</td>\n      <td>Ahmed</td>\n      <td>38</td>\n      <td>M</td>\n      <td>NaN</td>\n      <td>NaN</td>\n      <td>NaN</td>\n      <td>1000.80</td>\n      <td>NaN</td>\n    </tr>\n    <tr>\n      <th>7</th>\n      <td>Osama</td>\n      <td>Hassan</td>\n      <td>35</td>\n      <td>M</td>\n      <td>165.1</td>\n      <td>NaN</td>\n      <td>500.0</td>\n      <td>100.00</td>\n      <td>200.0</td>\n    </tr>\n    <tr>\n      <th>8</th>\n      <td>Ahmed</td>\n      <td>Naser</td>\n      <td>40</td>\n      <td>M</td>\n      <td>0.0</td>\n      <td>55.6</td>\n      <td>300.0</td>\n      <td>300.70</td>\n      <td>NaN</td>\n    </tr>\n    <tr>\n      <th>9</th>\n      <td>Huda</td>\n      <td>Saleh</td>\n      <td>39</td>\n      <td>M</td>\n      <td>160.8</td>\n      <td>57.5</td>\n      <td>200.0</td>\n      <td>NaN</td>\n      <td>300.0</td>\n    </tr>\n  </tbody>\n</table>\n</div>"
     },
     "execution_count": 35,
     "metadata": {},
     "output_type": "execute_result"
    }
   ],
   "source": [
    "df"
   ],
   "metadata": {
    "collapsed": false,
    "pycharm": {
     "name": "#%%\n"
    }
   }
  },
  {
   "cell_type": "markdown",
   "source": [
    "# Dealing with outliers"
   ],
   "metadata": {
    "collapsed": false,
    "pycharm": {
     "name": "#%% md\n"
    }
   }
  },
  {
   "cell_type": "code",
   "execution_count": 36,
   "outputs": [],
   "source": [
    "mean = df['height(cm)'].mean()\n"
   ],
   "metadata": {
    "collapsed": false,
    "pycharm": {
     "name": "#%%\n"
    }
   }
  },
  {
   "cell_type": "code",
   "execution_count": 37,
   "outputs": [
    {
     "data": {
      "text/plain": "142.875"
     },
     "execution_count": 37,
     "metadata": {},
     "output_type": "execute_result"
    }
   ],
   "source": [
    "mean"
   ],
   "metadata": {
    "collapsed": false,
    "pycharm": {
     "name": "#%%\n"
    }
   }
  },
  {
   "cell_type": "code",
   "execution_count": 38,
   "outputs": [],
   "source": [
    "df['height(cm)'].replace(0.0 , mean , inplace = True)"
   ],
   "metadata": {
    "collapsed": false,
    "pycharm": {
     "name": "#%%\n"
    }
   }
  },
  {
   "cell_type": "code",
   "execution_count": 39,
   "outputs": [
    {
     "data": {
      "text/plain": "      fname   lname age gender  height(cm)  weight(kg)  spend_A  spend_B  \\\n0  Mohammed     Ali  36      M         NaN        60.0    100.0   400.50   \n1      Reem    Naif  35      F     170.300        75.5      NaN   500.02   \n2    Khalid    Omar  34      M     155.100        56.8   1000.0   100.90   \n3    Hassan   Salem  36      M     154.200        60.6    100.0   200.70   \n4      Noor     Ali  38      F     162.100        58.7    600.0   200.60   \n5    Shahad  Khalid  37      F     175.400        85.6   1500.0   200.80   \n6   Ibrahim   Ahmed  38      M         NaN         NaN      NaN  1000.80   \n7     Osama  Hassan  35      M     165.100         NaN    500.0   100.00   \n8     Ahmed   Naser  40      M     142.875        55.6    300.0   300.70   \n9      Huda   Saleh  39      M     160.800        57.5    200.0      NaN   \n\n   spend_C  \n0      NaN  \n1    500.0  \n2      NaN  \n3    300.0  \n4    200.0  \n5    300.0  \n6      NaN  \n7    200.0  \n8      NaN  \n9    300.0  ",
      "text/html": "<div>\n<style scoped>\n    .dataframe tbody tr th:only-of-type {\n        vertical-align: middle;\n    }\n\n    .dataframe tbody tr th {\n        vertical-align: top;\n    }\n\n    .dataframe thead th {\n        text-align: right;\n    }\n</style>\n<table border=\"1\" class=\"dataframe\">\n  <thead>\n    <tr style=\"text-align: right;\">\n      <th></th>\n      <th>fname</th>\n      <th>lname</th>\n      <th>age</th>\n      <th>gender</th>\n      <th>height(cm)</th>\n      <th>weight(kg)</th>\n      <th>spend_A</th>\n      <th>spend_B</th>\n      <th>spend_C</th>\n    </tr>\n  </thead>\n  <tbody>\n    <tr>\n      <th>0</th>\n      <td>Mohammed</td>\n      <td>Ali</td>\n      <td>36</td>\n      <td>M</td>\n      <td>NaN</td>\n      <td>60.0</td>\n      <td>100.0</td>\n      <td>400.50</td>\n      <td>NaN</td>\n    </tr>\n    <tr>\n      <th>1</th>\n      <td>Reem</td>\n      <td>Naif</td>\n      <td>35</td>\n      <td>F</td>\n      <td>170.300</td>\n      <td>75.5</td>\n      <td>NaN</td>\n      <td>500.02</td>\n      <td>500.0</td>\n    </tr>\n    <tr>\n      <th>2</th>\n      <td>Khalid</td>\n      <td>Omar</td>\n      <td>34</td>\n      <td>M</td>\n      <td>155.100</td>\n      <td>56.8</td>\n      <td>1000.0</td>\n      <td>100.90</td>\n      <td>NaN</td>\n    </tr>\n    <tr>\n      <th>3</th>\n      <td>Hassan</td>\n      <td>Salem</td>\n      <td>36</td>\n      <td>M</td>\n      <td>154.200</td>\n      <td>60.6</td>\n      <td>100.0</td>\n      <td>200.70</td>\n      <td>300.0</td>\n    </tr>\n    <tr>\n      <th>4</th>\n      <td>Noor</td>\n      <td>Ali</td>\n      <td>38</td>\n      <td>F</td>\n      <td>162.100</td>\n      <td>58.7</td>\n      <td>600.0</td>\n      <td>200.60</td>\n      <td>200.0</td>\n    </tr>\n    <tr>\n      <th>5</th>\n      <td>Shahad</td>\n      <td>Khalid</td>\n      <td>37</td>\n      <td>F</td>\n      <td>175.400</td>\n      <td>85.6</td>\n      <td>1500.0</td>\n      <td>200.80</td>\n      <td>300.0</td>\n    </tr>\n    <tr>\n      <th>6</th>\n      <td>Ibrahim</td>\n      <td>Ahmed</td>\n      <td>38</td>\n      <td>M</td>\n      <td>NaN</td>\n      <td>NaN</td>\n      <td>NaN</td>\n      <td>1000.80</td>\n      <td>NaN</td>\n    </tr>\n    <tr>\n      <th>7</th>\n      <td>Osama</td>\n      <td>Hassan</td>\n      <td>35</td>\n      <td>M</td>\n      <td>165.100</td>\n      <td>NaN</td>\n      <td>500.0</td>\n      <td>100.00</td>\n      <td>200.0</td>\n    </tr>\n    <tr>\n      <th>8</th>\n      <td>Ahmed</td>\n      <td>Naser</td>\n      <td>40</td>\n      <td>M</td>\n      <td>142.875</td>\n      <td>55.6</td>\n      <td>300.0</td>\n      <td>300.70</td>\n      <td>NaN</td>\n    </tr>\n    <tr>\n      <th>9</th>\n      <td>Huda</td>\n      <td>Saleh</td>\n      <td>39</td>\n      <td>M</td>\n      <td>160.800</td>\n      <td>57.5</td>\n      <td>200.0</td>\n      <td>NaN</td>\n      <td>300.0</td>\n    </tr>\n  </tbody>\n</table>\n</div>"
     },
     "execution_count": 39,
     "metadata": {},
     "output_type": "execute_result"
    }
   ],
   "source": [
    "df"
   ],
   "metadata": {
    "collapsed": false,
    "pycharm": {
     "name": "#%%\n"
    }
   }
  },
  {
   "cell_type": "markdown",
   "source": [
    " # Dealing with missing numerical values"
   ],
   "metadata": {
    "collapsed": false,
    "pycharm": {
     "name": "#%% md\n"
    }
   }
  },
  {
   "cell_type": "code",
   "execution_count": 40,
   "outputs": [
    {
     "data": {
      "text/plain": "fname         0\nlname         0\nage           0\ngender        0\nheight(cm)    2\nweight(kg)    2\nspend_A       2\nspend_B       1\nspend_C       4\ndtype: int64"
     },
     "execution_count": 40,
     "metadata": {},
     "output_type": "execute_result"
    }
   ],
   "source": [
    "df.isnull().sum()"
   ],
   "metadata": {
    "collapsed": false,
    "pycharm": {
     "name": "#%%\n"
    }
   }
  },
  {
   "cell_type": "code",
   "execution_count": 41,
   "outputs": [],
   "source": [
    "mean_height = df['height(cm)'].mean()\n",
    "mean_weight = df['weight(kg)'].mean()\n",
    "mean_spend_A = df['spend_A'].mean()\n",
    "mean_spend_B = df['spend_B'].mean()\n",
    "mean_spend_C = df['spend_C'].mean()"
   ],
   "metadata": {
    "collapsed": false,
    "pycharm": {
     "name": "#%%\n"
    }
   }
  },
  {
   "cell_type": "code",
   "execution_count": 42,
   "outputs": [],
   "source": [
    "df['height(cm)'].fillna(mean_height , inplace = True)\n",
    "df['weight(kg)'].fillna(mean_weight , inplace = True)\n",
    "df['spend_A'].fillna(mean_spend_A , inplace = True)\n",
    "df['spend_B'].fillna(mean_spend_B , inplace = True)\n",
    "df['spend_C'].fillna(mean_spend_C , inplace = True)"
   ],
   "metadata": {
    "collapsed": false,
    "pycharm": {
     "name": "#%%\n"
    }
   }
  },
  {
   "cell_type": "code",
   "execution_count": 43,
   "outputs": [
    {
     "data": {
      "text/plain": "      fname   lname age gender  height(cm)  weight(kg)  spend_A      spend_B  \\\n0  Mohammed     Ali  36      M  160.734375     60.0000    100.0   400.500000   \n1      Reem    Naif  35      F  170.300000     75.5000    537.5   500.020000   \n2    Khalid    Omar  34      M  155.100000     56.8000   1000.0   100.900000   \n3    Hassan   Salem  36      M  154.200000     60.6000    100.0   200.700000   \n4      Noor     Ali  38      F  162.100000     58.7000    600.0   200.600000   \n5    Shahad  Khalid  37      F  175.400000     85.6000   1500.0   200.800000   \n6   Ibrahim   Ahmed  38      M  160.734375     63.7875    537.5  1000.800000   \n7     Osama  Hassan  35      M  165.100000     63.7875    500.0   100.000000   \n8     Ahmed   Naser  40      M  142.875000     55.6000    300.0   300.700000   \n9      Huda   Saleh  39      M  160.800000     57.5000    200.0   333.891111   \n\n   spend_C  \n0    300.0  \n1    500.0  \n2    300.0  \n3    300.0  \n4    200.0  \n5    300.0  \n6    300.0  \n7    200.0  \n8    300.0  \n9    300.0  ",
      "text/html": "<div>\n<style scoped>\n    .dataframe tbody tr th:only-of-type {\n        vertical-align: middle;\n    }\n\n    .dataframe tbody tr th {\n        vertical-align: top;\n    }\n\n    .dataframe thead th {\n        text-align: right;\n    }\n</style>\n<table border=\"1\" class=\"dataframe\">\n  <thead>\n    <tr style=\"text-align: right;\">\n      <th></th>\n      <th>fname</th>\n      <th>lname</th>\n      <th>age</th>\n      <th>gender</th>\n      <th>height(cm)</th>\n      <th>weight(kg)</th>\n      <th>spend_A</th>\n      <th>spend_B</th>\n      <th>spend_C</th>\n    </tr>\n  </thead>\n  <tbody>\n    <tr>\n      <th>0</th>\n      <td>Mohammed</td>\n      <td>Ali</td>\n      <td>36</td>\n      <td>M</td>\n      <td>160.734375</td>\n      <td>60.0000</td>\n      <td>100.0</td>\n      <td>400.500000</td>\n      <td>300.0</td>\n    </tr>\n    <tr>\n      <th>1</th>\n      <td>Reem</td>\n      <td>Naif</td>\n      <td>35</td>\n      <td>F</td>\n      <td>170.300000</td>\n      <td>75.5000</td>\n      <td>537.5</td>\n      <td>500.020000</td>\n      <td>500.0</td>\n    </tr>\n    <tr>\n      <th>2</th>\n      <td>Khalid</td>\n      <td>Omar</td>\n      <td>34</td>\n      <td>M</td>\n      <td>155.100000</td>\n      <td>56.8000</td>\n      <td>1000.0</td>\n      <td>100.900000</td>\n      <td>300.0</td>\n    </tr>\n    <tr>\n      <th>3</th>\n      <td>Hassan</td>\n      <td>Salem</td>\n      <td>36</td>\n      <td>M</td>\n      <td>154.200000</td>\n      <td>60.6000</td>\n      <td>100.0</td>\n      <td>200.700000</td>\n      <td>300.0</td>\n    </tr>\n    <tr>\n      <th>4</th>\n      <td>Noor</td>\n      <td>Ali</td>\n      <td>38</td>\n      <td>F</td>\n      <td>162.100000</td>\n      <td>58.7000</td>\n      <td>600.0</td>\n      <td>200.600000</td>\n      <td>200.0</td>\n    </tr>\n    <tr>\n      <th>5</th>\n      <td>Shahad</td>\n      <td>Khalid</td>\n      <td>37</td>\n      <td>F</td>\n      <td>175.400000</td>\n      <td>85.6000</td>\n      <td>1500.0</td>\n      <td>200.800000</td>\n      <td>300.0</td>\n    </tr>\n    <tr>\n      <th>6</th>\n      <td>Ibrahim</td>\n      <td>Ahmed</td>\n      <td>38</td>\n      <td>M</td>\n      <td>160.734375</td>\n      <td>63.7875</td>\n      <td>537.5</td>\n      <td>1000.800000</td>\n      <td>300.0</td>\n    </tr>\n    <tr>\n      <th>7</th>\n      <td>Osama</td>\n      <td>Hassan</td>\n      <td>35</td>\n      <td>M</td>\n      <td>165.100000</td>\n      <td>63.7875</td>\n      <td>500.0</td>\n      <td>100.000000</td>\n      <td>200.0</td>\n    </tr>\n    <tr>\n      <th>8</th>\n      <td>Ahmed</td>\n      <td>Naser</td>\n      <td>40</td>\n      <td>M</td>\n      <td>142.875000</td>\n      <td>55.6000</td>\n      <td>300.0</td>\n      <td>300.700000</td>\n      <td>300.0</td>\n    </tr>\n    <tr>\n      <th>9</th>\n      <td>Huda</td>\n      <td>Saleh</td>\n      <td>39</td>\n      <td>M</td>\n      <td>160.800000</td>\n      <td>57.5000</td>\n      <td>200.0</td>\n      <td>333.891111</td>\n      <td>300.0</td>\n    </tr>\n  </tbody>\n</table>\n</div>"
     },
     "execution_count": 43,
     "metadata": {},
     "output_type": "execute_result"
    }
   ],
   "source": [
    "df"
   ],
   "metadata": {
    "collapsed": false,
    "pycharm": {
     "name": "#%%\n"
    }
   }
  },
  {
   "cell_type": "code",
   "execution_count": 44,
   "outputs": [
    {
     "data": {
      "text/plain": "fname         0\nlname         0\nage           0\ngender        0\nheight(cm)    0\nweight(kg)    0\nspend_A       0\nspend_B       0\nspend_C       0\ndtype: int64"
     },
     "execution_count": 44,
     "metadata": {},
     "output_type": "execute_result"
    }
   ],
   "source": [
    "df.isnull().sum()"
   ],
   "metadata": {
    "collapsed": false,
    "pycharm": {
     "name": "#%%\n"
    }
   }
  },
  {
   "cell_type": "code",
   "execution_count": 45,
   "outputs": [],
   "source": [
    "name = 'final_output.csv'\n",
    "df.to_csv(name)\n"
   ],
   "metadata": {
    "collapsed": false,
    "pycharm": {
     "name": "#%%\n"
    }
   }
  },
  {
   "cell_type": "code",
   "execution_count": null,
   "outputs": [],
   "source": [],
   "metadata": {
    "collapsed": false,
    "pycharm": {
     "name": "#%%\n"
    }
   }
  }
 ],
 "metadata": {
  "kernelspec": {
   "display_name": "Python 3",
   "language": "python",
   "name": "python3"
  },
  "language_info": {
   "codemirror_mode": {
    "name": "ipython",
    "version": 2
   },
   "file_extension": ".py",
   "mimetype": "text/x-python",
   "name": "python",
   "nbconvert_exporter": "python",
   "pygments_lexer": "ipython2",
   "version": "2.7.6"
  }
 },
 "nbformat": 4,
 "nbformat_minor": 0
}